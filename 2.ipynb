{
 "cells": [
  {
   "cell_type": "markdown",
   "id": "b81ecd72",
   "metadata": {
    "papermill": {
     "duration": 0.082181,
     "end_time": "2021-09-27T20:15:04.110788",
     "exception": false,
     "start_time": "2021-09-27T20:15:04.028607",
     "status": "completed"
    },
    "tags": []
   },
   "source": [
    "# **¿Qué es el sistema de recomendación?**"
   ]
  },
  {
   "cell_type": "markdown",
   "id": "dcdc4a1f",
   "metadata": {
    "papermill": {
     "duration": 0.0759,
     "end_time": "2021-09-27T20:15:04.262456",
     "exception": false,
     "start_time": "2021-09-27T20:15:04.186556",
     "status": "completed"
    },
    "tags": []
   },
   "source": [
    "Un sistema de recomendación es un tipo de sistema de filtrado de información. Al extraer grandes conjuntos de datos, el algoritmo del sistema puede identificar con precisión las preferencias del usuario. Una vez que se conoce lo que les gusta a los usuarios, se puede recomendarles contenido nuevo y relevante. Esto aplica a todo, desde películas y música hasta parejas.\n",
    "\n",
    "El rápido crecimiento de la recopilación de datos ha dado lugar a una nueva era de la información. Los datos se utilizan para crear sistemas más eficientes, y aquí es donde entran en juego los sistemas de recomendación. Los sistemas de recomendación son un tipo de sistema de filtrado de información, ya que mejoran la calidad de los resultados de búsqueda y ofrecen elementos más relevantes para la búsqueda o relacionados con el historial de búsqueda del usuario.\n",
    "\n",
    "Netflix, YouTube, Tinder y Amazon son ejemplos de sistemas de recomendación en uso. Estos sistemas atraen a los usuarios con sugerencias relevantes basadas en sus elecciones. Amazon los utiliza para sugerir productos a los clientes, YouTube para decidir qué vídeo reproducir automáticamente a continuación, y Facebook para recomendar páginas que les gusten y personas a las que seguir. Además, empresas como Netflix y Spotify dependen en gran medida de la eficacia de sus motores de recomendación para el éxito de sus negocios."
   ]
  },
  {
   "cell_type": "markdown",
   "id": "d5dd304e",
   "metadata": {
    "papermill": {
     "duration": 0.072464,
     "end_time": "2021-09-27T20:15:05.148883",
     "exception": false,
     "start_time": "2021-09-27T20:15:05.076419",
     "status": "completed"
    },
    "tags": []
   },
   "source": [
    "# Let's start with the code."
   ]
  },
  {
   "cell_type": "markdown",
   "id": "a3b09c16",
   "metadata": {
    "papermill": {
     "duration": 0.073079,
     "end_time": "2021-09-27T20:15:05.296159",
     "exception": false,
     "start_time": "2021-09-27T20:15:05.223080",
     "status": "completed"
    },
    "tags": []
   },
   "source": [
    "## Importing Libraries"
   ]
  },
  {
   "cell_type": "code",
   "execution_count": 5,
   "id": "7c55c26a",
   "metadata": {
    "papermill": {
     "duration": 1.129573,
     "end_time": "2021-09-27T20:15:06.514298",
     "exception": false,
     "start_time": "2021-09-27T20:15:05.384725",
     "status": "completed"
    },
    "tags": []
   },
   "outputs": [],
   "source": [
    "import numpy as np  #NumPy is a general-purpose array-processing package. It provides a high-performance multidimensional array object, and tools for working with these arrays.\n",
    "import pandas as pd  #pandas is a popular Python-based data analysis toolkit. It presents a diverse range of utilities, ranging from parsing multiple file formats to converting an entire data table into a NumPy matrix array.\n",
    "import matplotlib.pyplot as plt  #matplotlib.pyplot is a collection of command style functions that make matplotlib work like MATLAB. Each pyplot function makes some change to a figure: e.g., creates a figure, creates a plotting area in a figure, plots some lines in a plotting area, decorates the plot with labels, etc.\n",
    "import seaborn as sns  #Seaborn is a library in Python predominantly used for making statistical graphics. Seaborn is a data visualization library built on top of matplotlib and closely integrated with pandas data structures in Python. Visualization is the central part of Seaborn which helps in exploration and understanding of data.\n",
    "import warnings\n",
    "warnings.filterwarnings(\"ignore\")"
   ]
  },
  {
   "cell_type": "markdown",
   "id": "27eb00b2",
   "metadata": {
    "papermill": {
     "duration": 0.074652,
     "end_time": "2021-09-27T20:15:06.662521",
     "exception": false,
     "start_time": "2021-09-27T20:15:06.587869",
     "status": "completed"
    },
    "tags": []
   },
   "source": [
    "## Loading the Dataset"
   ]
  },
  {
   "cell_type": "code",
   "execution_count": 6,
   "id": "52f4e29f",
   "metadata": {
    "papermill": {
     "duration": 0.226568,
     "end_time": "2021-09-27T20:15:06.963515",
     "exception": false,
     "start_time": "2021-09-27T20:15:06.736947",
     "status": "completed"
    },
    "tags": []
   },
   "outputs": [
    {
     "data": {
      "text/html": [
       "<div>\n",
       "<style scoped>\n",
       "    .dataframe tbody tr th:only-of-type {\n",
       "        vertical-align: middle;\n",
       "    }\n",
       "\n",
       "    .dataframe tbody tr th {\n",
       "        vertical-align: top;\n",
       "    }\n",
       "\n",
       "    .dataframe thead th {\n",
       "        text-align: right;\n",
       "    }\n",
       "</style>\n",
       "<table border=\"1\" class=\"dataframe\">\n",
       "  <thead>\n",
       "    <tr style=\"text-align: right;\">\n",
       "      <th></th>\n",
       "      <th>show_id</th>\n",
       "      <th>country</th>\n",
       "      <th>vote_count</th>\n",
       "      <th>duration</th>\n",
       "      <th>title</th>\n",
       "      <th>director</th>\n",
       "      <th>release_year</th>\n",
       "      <th>popularity</th>\n",
       "      <th>revenue</th>\n",
       "      <th>rating</th>\n",
       "      <th>language</th>\n",
       "      <th>vote_average</th>\n",
       "      <th>cast</th>\n",
       "      <th>genres</th>\n",
       "      <th>date_added</th>\n",
       "      <th>budget</th>\n",
       "      <th>description</th>\n",
       "      <th>type</th>\n",
       "    </tr>\n",
       "  </thead>\n",
       "  <tbody>\n",
       "    <tr>\n",
       "      <th>0</th>\n",
       "      <td>33238</td>\n",
       "      <td>South Korea</td>\n",
       "      <td>187</td>\n",
       "      <td>1 Seasons</td>\n",
       "      <td>Running Man</td>\n",
       "      <td>안재철</td>\n",
       "      <td>2010</td>\n",
       "      <td>1929.898</td>\n",
       "      <td>NaN</td>\n",
       "      <td>8.241</td>\n",
       "      <td>ko</td>\n",
       "      <td>8.241</td>\n",
       "      <td>Yoo Jae-suk, Jee Seok-jin, Kim Jong-kook, Haha...</td>\n",
       "      <td>Comedy, Reality</td>\n",
       "      <td>2010-07-11</td>\n",
       "      <td>NaN</td>\n",
       "      <td>A reality and competition show where members a...</td>\n",
       "      <td>TV Show</td>\n",
       "    </tr>\n",
       "    <tr>\n",
       "      <th>1</th>\n",
       "      <td>32415</td>\n",
       "      <td>United States of America</td>\n",
       "      <td>229</td>\n",
       "      <td>1 Seasons</td>\n",
       "      <td>Conan</td>\n",
       "      <td>NaN</td>\n",
       "      <td>2010</td>\n",
       "      <td>1670.580</td>\n",
       "      <td>NaN</td>\n",
       "      <td>7.035</td>\n",
       "      <td>en</td>\n",
       "      <td>7.035</td>\n",
       "      <td>Conan O'Brien, Andy Richter</td>\n",
       "      <td>Talk, Comedy, News</td>\n",
       "      <td>2010-11-08</td>\n",
       "      <td>NaN</td>\n",
       "      <td>A late night television talk show hosted by  C...</td>\n",
       "      <td>TV Show</td>\n",
       "    </tr>\n",
       "    <tr>\n",
       "      <th>2</th>\n",
       "      <td>37757</td>\n",
       "      <td>Greece</td>\n",
       "      <td>6</td>\n",
       "      <td>1 Seasons</td>\n",
       "      <td>MasterChef Greece</td>\n",
       "      <td>NaN</td>\n",
       "      <td>2010</td>\n",
       "      <td>1317.092</td>\n",
       "      <td>NaN</td>\n",
       "      <td>5.600</td>\n",
       "      <td>el</td>\n",
       "      <td>5.600</td>\n",
       "      <td>NaN</td>\n",
       "      <td>Reality</td>\n",
       "      <td>2010-10-03</td>\n",
       "      <td>NaN</td>\n",
       "      <td>MasterChef Greece is a Greek competitive cooki...</td>\n",
       "      <td>TV Show</td>\n",
       "    </tr>\n",
       "    <tr>\n",
       "      <th>3</th>\n",
       "      <td>75685</td>\n",
       "      <td>Czech Republic</td>\n",
       "      <td>6</td>\n",
       "      <td>1 Seasons</td>\n",
       "      <td>Prostřeno!</td>\n",
       "      <td>NaN</td>\n",
       "      <td>2010</td>\n",
       "      <td>1095.776</td>\n",
       "      <td>NaN</td>\n",
       "      <td>6.500</td>\n",
       "      <td>cs</td>\n",
       "      <td>6.500</td>\n",
       "      <td>Václav Vydra, Jana Boušková</td>\n",
       "      <td>Reality</td>\n",
       "      <td>2010-03-01</td>\n",
       "      <td>NaN</td>\n",
       "      <td>The knives (and forks) are out as a group of s...</td>\n",
       "      <td>TV Show</td>\n",
       "    </tr>\n",
       "    <tr>\n",
       "      <th>4</th>\n",
       "      <td>33847</td>\n",
       "      <td>United States of America, Ireland</td>\n",
       "      <td>12</td>\n",
       "      <td>1 Seasons</td>\n",
       "      <td>The Talk</td>\n",
       "      <td>NaN</td>\n",
       "      <td>2010</td>\n",
       "      <td>712.070</td>\n",
       "      <td>NaN</td>\n",
       "      <td>3.400</td>\n",
       "      <td>en</td>\n",
       "      <td>3.400</td>\n",
       "      <td>Amanda Kloots, Jerry O'Connell, Akbar Gbaja-Bi...</td>\n",
       "      <td>Talk</td>\n",
       "      <td>2010-10-18</td>\n",
       "      <td>NaN</td>\n",
       "      <td>A panel of well-known news and entertainment p...</td>\n",
       "      <td>TV Show</td>\n",
       "    </tr>\n",
       "  </tbody>\n",
       "</table>\n",
       "</div>"
      ],
      "text/plain": [
       "   show_id                            country  vote_count   duration  \\\n",
       "0    33238                        South Korea         187  1 Seasons   \n",
       "1    32415           United States of America         229  1 Seasons   \n",
       "2    37757                             Greece           6  1 Seasons   \n",
       "3    75685                     Czech Republic           6  1 Seasons   \n",
       "4    33847  United States of America, Ireland          12  1 Seasons   \n",
       "\n",
       "               title director  release_year  popularity  revenue  rating  \\\n",
       "0        Running Man      안재철          2010    1929.898      NaN   8.241   \n",
       "1              Conan      NaN          2010    1670.580      NaN   7.035   \n",
       "2  MasterChef Greece      NaN          2010    1317.092      NaN   5.600   \n",
       "3         Prostřeno!      NaN          2010    1095.776      NaN   6.500   \n",
       "4           The Talk      NaN          2010     712.070      NaN   3.400   \n",
       "\n",
       "  language  vote_average                                               cast  \\\n",
       "0       ko         8.241  Yoo Jae-suk, Jee Seok-jin, Kim Jong-kook, Haha...   \n",
       "1       en         7.035                        Conan O'Brien, Andy Richter   \n",
       "2       el         5.600                                                NaN   \n",
       "3       cs         6.500                        Václav Vydra, Jana Boušková   \n",
       "4       en         3.400  Amanda Kloots, Jerry O'Connell, Akbar Gbaja-Bi...   \n",
       "\n",
       "               genres  date_added  budget  \\\n",
       "0     Comedy, Reality  2010-07-11     NaN   \n",
       "1  Talk, Comedy, News  2010-11-08     NaN   \n",
       "2             Reality  2010-10-03     NaN   \n",
       "3             Reality  2010-03-01     NaN   \n",
       "4                Talk  2010-10-18     NaN   \n",
       "\n",
       "                                         description     type  \n",
       "0  A reality and competition show where members a...  TV Show  \n",
       "1  A late night television talk show hosted by  C...  TV Show  \n",
       "2  MasterChef Greece is a Greek competitive cooki...  TV Show  \n",
       "3  The knives (and forks) are out as a group of s...  TV Show  \n",
       "4  A panel of well-known news and entertainment p...  TV Show  "
      ]
     },
     "execution_count": 6,
     "metadata": {},
     "output_type": "execute_result"
    }
   ],
   "source": [
    "netflix_dataset=pd.read_csv(\"./combinado.csv\")\n",
    "netflix_dataset.head()"
   ]
  },
  {
   "cell_type": "code",
   "execution_count": 3,
   "id": "c68eb8a2",
   "metadata": {
    "papermill": {
     "duration": 0.116744,
     "end_time": "2021-09-27T20:15:07.154673",
     "exception": false,
     "start_time": "2021-09-27T20:15:07.037929",
     "status": "completed"
    },
    "tags": []
   },
   "outputs": [
    {
     "name": "stdout",
     "output_type": "stream",
     "text": [
      "<class 'pandas.core.frame.DataFrame'>\n",
      "RangeIndex: 32000 entries, 0 to 31999\n",
      "Data columns (total 18 columns):\n",
      " #   Column        Non-Null Count  Dtype  \n",
      "---  ------        --------------  -----  \n",
      " 0   show_id       32000 non-null  int64  \n",
      " 1   country       29737 non-null  object \n",
      " 2   vote_count    32000 non-null  int64  \n",
      " 3   duration      16000 non-null  object \n",
      " 4   title         32000 non-null  object \n",
      " 5   director      20903 non-null  object \n",
      " 6   release_year  32000 non-null  int64  \n",
      " 7   popularity    32000 non-null  float64\n",
      " 8   revenue       16000 non-null  float64\n",
      " 9   rating        32000 non-null  float64\n",
      " 10  language      32000 non-null  object \n",
      " 11  vote_average  32000 non-null  float64\n",
      " 12  cast          30639 non-null  object \n",
      " 13  genres        30919 non-null  object \n",
      " 14  date_added    32000 non-null  object \n",
      " 15  budget        16000 non-null  float64\n",
      " 16  description   28662 non-null  object \n",
      " 17  type          32000 non-null  object \n",
      "dtypes: float64(5), int64(3), object(10)\n",
      "memory usage: 4.4+ MB\n"
     ]
    }
   ],
   "source": [
    "netflix_dataset.info()"
   ]
  },
  {
   "cell_type": "code",
   "execution_count": 4,
   "id": "c39eaf51",
   "metadata": {
    "papermill": {
     "duration": 0.136189,
     "end_time": "2021-09-27T20:15:07.368992",
     "exception": false,
     "start_time": "2021-09-27T20:15:07.232803",
     "status": "completed"
    },
    "tags": []
   },
   "outputs": [
    {
     "name": "stdout",
     "output_type": "stream",
     "text": [
      "              unique count\n",
      "show_id              31594\n",
      "country               1745\n",
      "vote_count            2902\n",
      "duration                 1\n",
      "title                30639\n",
      "director             13011\n",
      "release_year            16\n",
      "popularity           24159\n",
      "revenue               5327\n",
      "rating                2728\n",
      "language                83\n",
      "vote_average          2728\n",
      "cast                 30230\n",
      "genres                3895\n",
      "date_added            5504\n",
      "budget                 958\n",
      "description          28636\n",
      "type                     2\n"
     ]
    }
   ],
   "source": [
    "dict = {}\n",
    "for i in list(netflix_dataset.columns):\n",
    "    dict[i] = netflix_dataset[i].value_counts().shape[0]\n",
    "    \n",
    "print(pd.DataFrame(dict,index = [\"unique count\"]).transpose())"
   ]
  },
  {
   "cell_type": "markdown",
   "id": "d7137659",
   "metadata": {
    "papermill": {
     "duration": 0.076163,
     "end_time": "2021-09-27T20:15:07.532404",
     "exception": false,
     "start_time": "2021-09-27T20:15:07.456241",
     "status": "completed"
    },
    "tags": []
   },
   "source": [
    "show_id does represents the primary key of the datasets.\n",
    "There are only two types of Netflix content type, where as others are distributed in wide range will need futher analysis with graphs."
   ]
  },
  {
   "cell_type": "code",
   "execution_count": 5,
   "id": "7fe956dd",
   "metadata": {
    "papermill": {
     "duration": 0.095689,
     "end_time": "2021-09-27T20:15:07.704730",
     "exception": false,
     "start_time": "2021-09-27T20:15:07.609041",
     "status": "completed"
    },
    "tags": []
   },
   "outputs": [
    {
     "name": "stdout",
     "output_type": "stream",
     "text": [
      "Table of missing values: \n",
      "show_id             0\n",
      "country          2263\n",
      "vote_count          0\n",
      "duration        16000\n",
      "title               0\n",
      "director        11097\n",
      "release_year        0\n",
      "popularity          0\n",
      "revenue         16000\n",
      "rating              0\n",
      "language            0\n",
      "vote_average        0\n",
      "cast             1361\n",
      "genres           1081\n",
      "date_added          0\n",
      "budget          16000\n",
      "description      3338\n",
      "type                0\n",
      "dtype: int64\n"
     ]
    }
   ],
   "source": [
    "print('Table of missing values: ')\n",
    "print(netflix_dataset.isnull().sum())"
   ]
  },
  {
   "cell_type": "markdown",
   "id": "71f2cd0b",
   "metadata": {
    "papermill": {
     "duration": 0.075515,
     "end_time": "2021-09-27T20:15:07.856146",
     "exception": false,
     "start_time": "2021-09-27T20:15:07.780631",
     "status": "completed"
    },
    "tags": []
   },
   "source": [
    "# Exploratory Data Analysis(EDA)"
   ]
  },
  {
   "cell_type": "markdown",
   "id": "2f0801ae",
   "metadata": {
    "papermill": {
     "duration": 0.074932,
     "end_time": "2021-09-27T20:15:08.005485",
     "exception": false,
     "start_time": "2021-09-27T20:15:07.930553",
     "status": "completed"
    },
    "tags": []
   },
   "source": [
    "## Analysis of Movies vs TV Shows"
   ]
  },
  {
   "cell_type": "code",
   "execution_count": 8,
   "id": "121acc1c",
   "metadata": {
    "papermill": {
     "duration": 0.359185,
     "end_time": "2021-09-27T20:15:08.440331",
     "exception": false,
     "start_time": "2021-09-27T20:15:08.081146",
     "status": "completed"
    },
    "tags": []
   },
   "outputs": [
    {
     "data": {
      "image/png": "[encoded data removed]",
      "text/plain": [
       "<Figure size 900x600 with 1 Axes>"
      ]
     },
     "metadata": {},
     "output_type": "display_data"
    }
   ],
   "source": [
    "netflix_shows=netflix_dataset[netflix_dataset['type']=='TV Show']\n",
    "netflix_movies=netflix_dataset[netflix_dataset['type']=='Movie']\n",
    "\n",
    "plt.figure(figsize=(9,6))\n",
    "sns.countplot(data=netflix_dataset, x='type', palette=\"Set1\")\n",
    "plt.title('Películas vs Series')\n",
    "plt.xlabel('')\n",
    "plt.ylabel('Cantidad')\n",
    "for p in plt.gca().patches:\n",
    "    plt.text(p.get_x()+p.get_width()/2, p.get_height()+5, int(p.get_height()), ha='center')\n",
    "plt.show()"
   ]
  },
  {
   "cell_type": "markdown",
   "id": "8b94faa1",
   "metadata": {
    "papermill": {
     "duration": 0.075767,
     "end_time": "2021-09-27T20:15:08.597242",
     "exception": false,
     "start_time": "2021-09-27T20:15:08.521475",
     "status": "completed"
    },
    "tags": []
   },
   "source": [
    "It is evident that there are more Movies on Netflix than TV shows."
   ]
  },
  {
   "cell_type": "markdown",
   "id": "0db23353",
   "metadata": {
    "papermill": {
     "duration": 0.075348,
     "end_time": "2021-09-27T20:15:08.750366",
     "exception": false,
     "start_time": "2021-09-27T20:15:08.675018",
     "status": "completed"
    },
    "tags": []
   },
   "source": [
    "## **In which month, a producer can releases its content? (Month when least amount of content is added)**"
   ]
  },
  {
   "cell_type": "code",
   "execution_count": 20,
   "id": "11063720",
   "metadata": {
    "papermill": {
     "duration": 0.726863,
     "end_time": "2021-09-27T20:15:09.554484",
     "exception": false,
     "start_time": "2021-09-27T20:15:08.827621",
     "status": "completed"
    },
    "tags": []
   },
   "outputs": [
    {
     "data": {
      "image/png": "[encoded data removed]",
      "text/plain": [
       "<Figure size 2000x1400 with 2 Axes>"
      ]
     },
     "metadata": {},
     "output_type": "display_data"
    }
   ],
   "source": [
    "# Convertir a datetime, ignorar errores\n",
    "netflix_date = netflix_dataset[['date_added']].dropna()\n",
    "netflix_date['date_added'] = pd.to_datetime(netflix_date['date_added'], errors='coerce')\n",
    "\n",
    "# Filtrar fechas válidas\n",
    "netflix_date = netflix_date.dropna()\n",
    "\n",
    "# Extraer año y nombre del mes\n",
    "netflix_date['year'] = netflix_date['date_added'].dt.year\n",
    "netflix_date['month'] = netflix_date['date_added'].dt.month_name()\n",
    "\n",
    "# Orden de meses (de diciembre a enero)\n",
    "month_order = ['December', 'November', 'October', 'September', 'August', 'July',\n",
    "               'June', 'May', 'April', 'March', 'February', 'January']\n",
    "\n",
    "# Agrupar\n",
    "df = netflix_date.groupby('year')['month'].value_counts().unstack().fillna(0)[month_order].T\n",
    "\n",
    "# Graficar heatmap\n",
    "plt.figure(figsize=(10, 7), dpi=200)\n",
    "plt.pcolor(df, cmap='afmhot_r', edgecolors='white', linewidths=2)\n",
    "\n",
    "plt.xticks(np.arange(0.5, len(df.columns), 1), df.columns, fontsize=7, fontfamily='serif')\n",
    "plt.yticks(np.arange(0.5, len(df.index), 1), df.index, fontsize=7, fontfamily='serif')\n",
    "\n",
    "plt.title('Netflix Contents Update - HeatMap for Analysis',\n",
    "          fontsize=12, fontfamily='calibri', fontweight='bold', position=(0.20, 1.02))\n",
    "\n",
    "cbar = plt.colorbar()\n",
    "cbar.ax.tick_params(labelsize=8)\n",
    "cbar.ax.minorticks_on()\n",
    "\n",
    "plt.show()"
   ]
  },
  {
   "cell_type": "markdown",
   "id": "08e9a0b4",
   "metadata": {
    "papermill": {
     "duration": 0.126572,
     "end_time": "2021-09-27T20:15:09.761586",
     "exception": false,
     "start_time": "2021-09-27T20:15:09.635014",
     "status": "completed"
    },
    "tags": []
   },
   "source": [
    "If the year 2020 is considered, February and June were the months when comparatively less content was released. Therefore, these months may be a good choice for the success of a new release!"
   ]
  },
  {
   "cell_type": "markdown",
   "id": "aeae84ea",
   "metadata": {
    "papermill": {
     "duration": 0.078022,
     "end_time": "2021-09-27T20:15:09.920969",
     "exception": false,
     "start_time": "2021-09-27T20:15:09.842947",
     "status": "completed"
    },
    "tags": []
   },
   "source": [
    "## **Movie Ratings Analysis**"
   ]
  },
  {
   "cell_type": "code",
   "execution_count": 7,
   "id": "4a2373d2",
   "metadata": {
    "papermill": {
     "duration": 0.449864,
     "end_time": "2021-09-27T20:15:10.449777",
     "exception": false,
     "start_time": "2021-09-27T20:15:09.999913",
     "status": "completed"
    },
    "tags": []
   },
   "outputs": [
    {
     "data": {
      "image/png": "[encoded data removed]",
      "text/plain": [
       "<Figure size 1200x1000 with 1 Axes>"
      ]
     },
     "metadata": {},
     "output_type": "display_data"
    }
   ],
   "source": [
    "#Movie ratings analysis\n",
    "plt.figure(figsize=(12,10))\n",
    "sns.set(style=\"darkgrid\")\n",
    "ax = sns.countplot(x=\"rating\", data=netflix_dataset, palette=\"Set1\", order=netflix_dataset['rating'].value_counts().index[0:15])"
   ]
  },
  {
   "cell_type": "markdown",
   "id": "d28ed4fe",
   "metadata": {
    "papermill": {
     "duration": 0.080742,
     "end_time": "2021-09-27T20:15:10.609555",
     "exception": false,
     "start_time": "2021-09-27T20:15:10.528813",
     "status": "completed"
    },
    "tags": []
   },
   "source": [
    "The largest count of movies are made with the 'TV-MA' rating. \"TV-MA\" is a rating assigned by the TV Parental Guidelines to a television program that was designed for mature audiences only.\n",
    "\n",
    "Second largest is the 'TV-14' stands for content that may be inappropriate for children younger than 14 years of age.\n",
    "\n",
    "Third largest is the 'TV-PG' rating. Programs rated TV-PG may contain some material that parents or guardians may find inappropriate for younger children. Programs assigned a TV-PG rating may include infrequent coarse language, some sexual content, some suggestive dialogue, or moderate violence."
   ]
  },
  {
   "cell_type": "markdown",
   "id": "0e57b20b",
   "metadata": {
    "papermill": {
     "duration": 0.080218,
     "end_time": "2021-09-27T20:15:10.770873",
     "exception": false,
     "start_time": "2021-09-27T20:15:10.690655",
     "status": "completed"
    },
    "tags": []
   },
   "source": [
    "## **Analysing IMDB ratings to get top rated movies on Netflix**"
   ]
  },
  {
   "cell_type": "code",
   "execution_count": 26,
   "id": "53936425",
   "metadata": {
    "papermill": {
     "duration": 1.518147,
     "end_time": "2021-09-27T20:15:12.370492",
     "exception": false,
     "start_time": "2021-09-27T20:15:10.852345",
     "status": "completed"
    },
    "tags": []
   },
   "outputs": [
    {
     "data": {
      "text/plain": [
       "(85852, 4)"
      ]
     },
     "execution_count": 26,
     "metadata": {},
     "output_type": "execute_result"
    }
   ],
   "source": [
    "imdb_ratings=pd.read_csv('IMDb ratings.csv', usecols=['weighted_average_vote'])\n",
    "imdb_titles=pd.read_csv('IMDb movies.csv', usecols=['title','year','genre'])\n",
    "ratings = pd.DataFrame({'Title':imdb_titles.title,\n",
    "                    'Release Year':imdb_titles.year,\n",
    "                    'Rating': imdb_ratings.weighted_average_vote,\n",
    "                    'Genre':imdb_titles.genre})\n",
    "ratings.drop_duplicates(subset=['Title','Release Year','Rating'], inplace=True)\n",
    "ratings.shape"
   ]
  },
  {
   "cell_type": "markdown",
   "id": "6259e691",
   "metadata": {
    "papermill": {
     "duration": 0.080291,
     "end_time": "2021-09-27T20:15:12.532378",
     "exception": false,
     "start_time": "2021-09-27T20:15:12.452087",
     "status": "completed"
    },
    "tags": []
   },
   "source": [
    "Performing inner join on the ratings dataset and netflix dataset to get the content that has both ratings on IMDB and are available on Netflix."
   ]
  },
  {
   "cell_type": "code",
   "execution_count": 27,
   "id": "926d3da4",
   "metadata": {
    "papermill": {
     "duration": 0.17506,
     "end_time": "2021-09-27T20:15:12.788339",
     "exception": false,
     "start_time": "2021-09-27T20:15:12.613279",
     "status": "completed"
    },
    "tags": []
   },
   "outputs": [],
   "source": [
    "ratings.dropna()\n",
    "joint_data=ratings.merge(netflix_dataset,left_on='Title',right_on='title',how='inner')\n",
    "joint_data=joint_data.sort_values(by='Rating', ascending=False)"
   ]
  },
  {
   "cell_type": "markdown",
   "id": "f55de2ed",
   "metadata": {
    "papermill": {
     "duration": 0.079715,
     "end_time": "2021-09-27T20:15:12.949318",
     "exception": false,
     "start_time": "2021-09-27T20:15:12.869603",
     "status": "completed"
    },
    "tags": []
   },
   "source": [
    "## **Top rated 10 movies in Netflix**"
   ]
  },
  {
   "cell_type": "code",
   "execution_count": 28,
   "id": "9436bf1e",
   "metadata": {
    "papermill": {
     "duration": 2.497752,
     "end_time": "2021-09-27T20:15:15.527990",
     "exception": false,
     "start_time": "2021-09-27T20:15:13.030238",
     "status": "completed"
    },
    "tags": []
   },
   "outputs": [
    {
     "data": {
      "application/vnd.plotly.v1+json": {
       "config": {
        "plotlyServerURL": "https://plot.ly"
       },
       "data": [
        {
         "branchvalues": "total",
         "customdata": [
          [
           9
          ],
          [
           8.8
          ],
          [
           9.2
          ],
          [
           8.7
          ],
          [
           9.4
          ],
          [
           8.8
          ],
          [
           8.7
          ],
          [
           9
          ],
          [
           8.8
          ],
          [
           9
          ],
          [
           9
          ],
          [
           8.8
          ],
          [
           9.2
          ],
          [
           8.8
          ],
          [
           8.8
          ],
          [
           8.7
          ],
          [
           8.7
          ],
          [
           9.4
          ],
          [
           9
          ]
         ],
         "domain": {
          "x": [
           0,
           1
          ],
          "y": [
           0,
           1
          ]
         },
         "hovertemplate": "labels=%{label}<br>Rating_sum=%{value}<br>parent=%{parent}<br>id=%{id}<br>Rating=%{color}<extra></extra>",
         "ids": [
          "Breakout/Canada",
          "Dil Bechara/India",
          "Fan/India",
          "Ratsasan/India",
          "The Best Years/Italy",
          "Kill Bill: The Whole Bloody Affair/Japan, United States of America",
          "National Theatre Live: Frankenstein/United Kingdom",
          "The Phantom of the Opera at the Royal Albert Hall/United Kingdom",
          "Inception/United Kingdom, United States of America",
          "Breakout/United States of America",
          "Breakout",
          "Dil Bechara",
          "Fan",
          "Inception",
          "Kill Bill: The Whole Bloody Affair",
          "National Theatre Live: Frankenstein",
          "Ratsasan",
          "The Best Years",
          "The Phantom of the Opera at the Royal Albert Hall"
         ],
         "labels": [
          "Canada",
          "India",
          "India",
          "India",
          "Italy",
          "Japan, United States of America",
          "United Kingdom",
          "United Kingdom",
          "United Kingdom, United States of America",
          "United States of America",
          "Breakout",
          "Dil Bechara",
          "Fan",
          "Inception",
          "Kill Bill: The Whole Bloody Affair",
          "National Theatre Live: Frankenstein",
          "Ratsasan",
          "The Best Years",
          "The Phantom of the Opera at the Royal Albert Hall"
         ],
         "marker": {
          "coloraxis": "coloraxis",
          "colors": [
           9,
           8.8,
           9.2,
           8.7,
           9.4,
           8.8,
           8.7,
           9,
           8.8,
           9,
           9,
           8.8,
           9.2,
           8.8,
           8.8,
           8.7,
           8.7,
           9.4,
           9
          ]
         },
         "name": "",
         "parents": [
          "Breakout",
          "Dil Bechara",
          "Fan",
          "Ratsasan",
          "The Best Years",
          "Kill Bill: The Whole Bloody Affair",
          "National Theatre Live: Frankenstein",
          "The Phantom of the Opera at the Royal Albert Hall",
          "Inception",
          "Breakout",
          "",
          "",
          "",
          "",
          "",
          "",
          "",
          "",
          ""
         ],
         "type": "sunburst",
         "values": [
          9,
          8.8,
          9.2,
          8.7,
          9.4,
          8.8,
          8.7,
          9,
          8.8,
          9,
          18,
          8.8,
          9.2,
          8.8,
          8.8,
          8.7,
          8.7,
          9.4,
          9
         ]
        }
       ],
       "layout": {
        "autosize": true,
        "coloraxis": {
         "colorbar": {
          "title": {
           "text": "Rating"
          }
         },
         "colorscale": [
          [
           0,
           "#0d0887"
          ],
          [
           0.1111111111111111,
           "#46039f"
          ],
          [
           0.2222222222222222,
           "#7201a8"
          ],
          [
           0.3333333333333333,
           "#9c179e"
          ],
          [
           0.4444444444444444,
           "#bd3786"
          ],
          [
           0.5555555555555556,
           "#d8576b"
          ],
          [
           0.6666666666666666,
           "#ed7953"
          ],
          [
           0.7777777777777778,
           "#fb9f3a"
          ],
          [
           0.8888888888888888,
           "#fdca26"
          ],
          [
           1,
           "#f0f921"
          ]
         ]
        },
        "legend": {
         "tracegroupgap": 0
        },
        "margin": {
         "t": 60
        },
        "template": {
         "data": {
          "bar": [
           {
            "error_x": {
             "color": "#2a3f5f"
            },
            "error_y": {
             "color": "#2a3f5f"
            },
            "marker": {
             "line": {
              "color": "#E5ECF6",
              "width": 0.5
             },
             "pattern": {
              "fillmode": "overlay",
              "size": 10,
              "solidity": 0.2
             }
            },
            "type": "bar"
           }
          ],
          "barpolar": [
           {
            "marker": {
             "line": {
              "color": "#E5ECF6",
              "width": 0.5
             },
             "pattern": {
              "fillmode": "overlay",
              "size": 10,
              "solidity": 0.2
             }
            },
            "type": "barpolar"
           }
          ],
          "carpet": [
           {
            "aaxis": {
             "endlinecolor": "#2a3f5f",
             "gridcolor": "white",
             "linecolor": "white",
             "minorgridcolor": "white",
             "startlinecolor": "#2a3f5f"
            },
            "baxis": {
             "endlinecolor": "#2a3f5f",
             "gridcolor": "white",
             "linecolor": "white",
             "minorgridcolor": "white",
             "startlinecolor": "#2a3f5f"
            },
            "type": "carpet"
           }
          ],
          "choropleth": [
           {
            "colorbar": {
             "outlinewidth": 0,
             "ticks": ""
            },
            "type": "choropleth"
           }
          ],
          "contour": [
           {
            "colorbar": {
             "outlinewidth": 0,
             "ticks": ""
            },
            "colorscale": [
             [
              0,
              "#0d0887"
             ],
             [
              0.1111111111111111,
              "#46039f"
             ],
             [
              0.2222222222222222,
              "#7201a8"
             ],
             [
              0.3333333333333333,
              "#9c179e"
             ],
             [
              0.4444444444444444,
              "#bd3786"
             ],
             [
              0.5555555555555556,
              "#d8576b"
             ],
             [
              0.6666666666666666,
              "#ed7953"
             ],
             [
              0.7777777777777778,
              "#fb9f3a"
             ],
             [
              0.8888888888888888,
              "#fdca26"
             ],
             [
              1,
              "#f0f921"
             ]
            ],
            "type": "contour"
           }
          ],
          "contourcarpet": [
           {
            "colorbar": {
             "outlinewidth": 0,
             "ticks": ""
            },
            "type": "contourcarpet"
           }
          ],
          "heatmap": [
           {
            "colorbar": {
             "outlinewidth": 0,
             "ticks": ""
            },
            "colorscale": [
             [
              0,
              "#0d0887"
             ],
             [
              0.1111111111111111,
              "#46039f"
             ],
             [
              0.2222222222222222,
              "#7201a8"
             ],
             [
              0.3333333333333333,
              "#9c179e"
             ],
             [
              0.4444444444444444,
              "#bd3786"
             ],
             [
              0.5555555555555556,
              "#d8576b"
             ],
             [
              0.6666666666666666,
              "#ed7953"
             ],
             [
              0.7777777777777778,
              "#fb9f3a"
             ],
             [
              0.8888888888888888,
              "#fdca26"
             ],
             [
              1,
              "#f0f921"
             ]
            ],
            "type": "heatmap"
           }
          ],
          "heatmapgl": [
           {
            "colorbar": {
             "outlinewidth": 0,
             "ticks": ""
            },
            "colorscale": [
             [
              0,
              "#0d0887"
             ],
             [
              0.1111111111111111,
              "#46039f"
             ],
             [
              0.2222222222222222,
              "#7201a8"
             ],
             [
              0.3333333333333333,
              "#9c179e"
             ],
             [
              0.4444444444444444,
              "#bd3786"
             ],
             [
              0.5555555555555556,
              "#d8576b"
             ],
             [
              0.6666666666666666,
              "#ed7953"
             ],
             [
              0.7777777777777778,
              "#fb9f3a"
             ],
             [
              0.8888888888888888,
              "#fdca26"
             ],
             [
              1,
              "#f0f921"
             ]
            ],
            "type": "heatmapgl"
           }
          ],
          "histogram": [
           {
            "marker": {
             "pattern": {
              "fillmode": "overlay",
              "size": 10,
              "solidity": 0.2
             }
            },
            "type": "histogram"
           }
          ],
          "histogram2d": [
           {
            "colorbar": {
             "outlinewidth": 0,
             "ticks": ""
            },
            "colorscale": [
             [
              0,
              "#0d0887"
             ],
             [
              0.1111111111111111,
              "#46039f"
             ],
             [
              0.2222222222222222,
              "#7201a8"
             ],
             [
              0.3333333333333333,
              "#9c179e"
             ],
             [
              0.4444444444444444,
              "#bd3786"
             ],
             [
              0.5555555555555556,
              "#d8576b"
             ],
             [
              0.6666666666666666,
              "#ed7953"
             ],
             [
              0.7777777777777778,
              "#fb9f3a"
             ],
             [
              0.8888888888888888,
              "#fdca26"
             ],
             [
              1,
              "#f0f921"
             ]
            ],
            "type": "histogram2d"
           }
          ],
          "histogram2dcontour": [
           {
            "colorbar": {
             "outlinewidth": 0,
             "ticks": ""
            },
            "colorscale": [
             [
              0,
              "#0d0887"
             ],
             [
              0.1111111111111111,
              "#46039f"
             ],
             [
              0.2222222222222222,
              "#7201a8"
             ],
             [
              0.3333333333333333,
              "#9c179e"
             ],
             [
              0.4444444444444444,
              "#bd3786"
             ],
             [
              0.5555555555555556,
              "#d8576b"
             ],
             [
              0.6666666666666666,
              "#ed7953"
             ],
             [
              0.7777777777777778,
              "#fb9f3a"
             ],
             [
              0.8888888888888888,
              "#fdca26"
             ],
             [
              1,
              "#f0f921"
             ]
            ],
            "type": "histogram2dcontour"
           }
          ],
          "mesh3d": [
           {
            "colorbar": {
             "outlinewidth": 0,
             "ticks": ""
            },
            "type": "mesh3d"
           }
          ],
          "parcoords": [
           {
            "line": {
             "colorbar": {
              "outlinewidth": 0,
              "ticks": ""
             }
            },
            "type": "parcoords"
           }
          ],
          "pie": [
           {
            "automargin": true,
            "type": "pie"
           }
          ],
          "scatter": [
           {
            "fillpattern": {
             "fillmode": "overlay",
             "size": 10,
             "solidity": 0.2
            },
            "type": "scatter"
           }
          ],
          "scatter3d": [
           {
            "line": {
             "colorbar": {
              "outlinewidth": 0,
              "ticks": ""
             }
            },
            "marker": {
             "colorbar": {
              "outlinewidth": 0,
              "ticks": ""
             }
            },
            "type": "scatter3d"
           }
          ],
          "scattercarpet": [
           {
            "marker": {
             "colorbar": {
              "outlinewidth": 0,
              "ticks": ""
             }
            },
            "type": "scattercarpet"
           }
          ],
          "scattergeo": [
           {
            "marker": {
             "colorbar": {
              "outlinewidth": 0,
              "ticks": ""
             }
            },
            "type": "scattergeo"
           }
          ],
          "scattergl": [
           {
            "marker": {
             "colorbar": {
              "outlinewidth": 0,
              "ticks": ""
             }
            },
            "type": "scattergl"
           }
          ],
          "scattermapbox": [
           {
            "marker": {
             "colorbar": {
              "outlinewidth": 0,
              "ticks": ""
             }
            },
            "type": "scattermapbox"
           }
          ],
          "scatterpolar": [
           {
            "marker": {
             "colorbar": {
              "outlinewidth": 0,
              "ticks": ""
             }
            },
            "type": "scatterpolar"
           }
          ],
          "scatterpolargl": [
           {
            "marker": {
             "colorbar": {
              "outlinewidth": 0,
              "ticks": ""
             }
            },
            "type": "scatterpolargl"
           }
          ],
          "scatterternary": [
           {
            "marker": {
             "colorbar": {
              "outlinewidth": 0,
              "ticks": ""
             }
            },
            "type": "scatterternary"
           }
          ],
          "surface": [
           {
            "colorbar": {
             "outlinewidth": 0,
             "ticks": ""
            },
            "colorscale": [
             [
              0,
              "#0d0887"
             ],
             [
              0.1111111111111111,
              "#46039f"
             ],
             [
              0.2222222222222222,
              "#7201a8"
             ],
             [
              0.3333333333333333,
              "#9c179e"
             ],
             [
              0.4444444444444444,
              "#bd3786"
             ],
             [
              0.5555555555555556,
              "#d8576b"
             ],
             [
              0.6666666666666666,
              "#ed7953"
             ],
             [
              0.7777777777777778,
              "#fb9f3a"
             ],
             [
              0.8888888888888888,
              "#fdca26"
             ],
             [
              1,
              "#f0f921"
             ]
            ],
            "type": "surface"
           }
          ],
          "table": [
           {
            "cells": {
             "fill": {
              "color": "#EBF0F8"
             },
             "line": {
              "color": "white"
             }
            },
            "header": {
             "fill": {
              "color": "#C8D4E3"
             },
             "line": {
              "color": "white"
             }
            },
            "type": "table"
           }
          ]
         },
         "layout": {
          "annotationdefaults": {
           "arrowcolor": "#2a3f5f",
           "arrowhead": 0,
           "arrowwidth": 1
          },
          "autotypenumbers": "strict",
          "coloraxis": {
           "colorbar": {
            "outlinewidth": 0,
            "ticks": ""
           }
          },
          "colorscale": {
           "diverging": [
            [
             0,
             "#8e0152"
            ],
            [
             0.1,
             "#c51b7d"
            ],
            [
             0.2,
             "#de77ae"
            ],
            [
             0.3,
             "#f1b6da"
            ],
            [
             0.4,
             "#fde0ef"
            ],
            [
             0.5,
             "#f7f7f7"
            ],
            [
             0.6,
             "#e6f5d0"
            ],
            [
             0.7,
             "#b8e186"
            ],
            [
             0.8,
             "#7fbc41"
            ],
            [
             0.9,
             "#4d9221"
            ],
            [
             1,
             "#276419"
            ]
           ],
           "sequential": [
            [
             0,
             "#0d0887"
            ],
            [
             0.1111111111111111,
             "#46039f"
            ],
            [
             0.2222222222222222,
             "#7201a8"
            ],
            [
             0.3333333333333333,
             "#9c179e"
            ],
            [
             0.4444444444444444,
             "#bd3786"
            ],
            [
             0.5555555555555556,
             "#d8576b"
            ],
            [
             0.6666666666666666,
             "#ed7953"
            ],
            [
             0.7777777777777778,
             "#fb9f3a"
            ],
            [
             0.8888888888888888,
             "#fdca26"
            ],
            [
             1,
             "#f0f921"
            ]
           ],
           "sequentialminus": [
            [
             0,
             "#0d0887"
            ],
            [
             0.1111111111111111,
             "#46039f"
            ],
            [
             0.2222222222222222,
             "#7201a8"
            ],
            [
             0.3333333333333333,
             "#9c179e"
            ],
            [
             0.4444444444444444,
             "#bd3786"
            ],
            [
             0.5555555555555556,
             "#d8576b"
            ],
            [
             0.6666666666666666,
             "#ed7953"
            ],
            [
             0.7777777777777778,
             "#fb9f3a"
            ],
            [
             0.8888888888888888,
             "#fdca26"
            ],
            [
             1,
             "#f0f921"
            ]
           ]
          },
          "colorway": [
           "#636efa",
           "#EF553B",
           "#00cc96",
           "#ab63fa",
           "#FFA15A",
           "#19d3f3",
           "#FF6692",
           "#B6E880",
           "#FF97FF",
           "#FECB52"
          ],
          "font": {
           "color": "#2a3f5f"
          },
          "geo": {
           "bgcolor": "white",
           "lakecolor": "white",
           "landcolor": "#E5ECF6",
           "showlakes": true,
           "showland": true,
           "subunitcolor": "white"
          },
          "hoverlabel": {
           "align": "left"
          },
          "hovermode": "closest",
          "mapbox": {
           "style": "light"
          },
          "paper_bgcolor": "white",
          "plot_bgcolor": "#E5ECF6",
          "polar": {
           "angularaxis": {
            "gridcolor": "white",
            "linecolor": "white",
            "ticks": ""
           },
           "bgcolor": "#E5ECF6",
           "radialaxis": {
            "gridcolor": "white",
            "linecolor": "white",
            "ticks": ""
           }
          },
          "scene": {
           "xaxis": {
            "backgroundcolor": "#E5ECF6",
            "gridcolor": "white",
            "gridwidth": 2,
            "linecolor": "white",
            "showbackground": true,
            "ticks": "",
            "zerolinecolor": "white"
           },
           "yaxis": {
            "backgroundcolor": "#E5ECF6",
            "gridcolor": "white",
            "gridwidth": 2,
            "linecolor": "white",
            "showbackground": true,
            "ticks": "",
            "zerolinecolor": "white"
           },
           "zaxis": {
            "backgroundcolor": "#E5ECF6",
            "gridcolor": "white",
            "gridwidth": 2,
            "linecolor": "white",
            "showbackground": true,
            "ticks": "",
            "zerolinecolor": "white"
           }
          },
          "shapedefaults": {
           "line": {
            "color": "#2a3f5f"
           }
          },
          "ternary": {
           "aaxis": {
            "gridcolor": "white",
            "linecolor": "white",
            "ticks": ""
           },
           "baxis": {
            "gridcolor": "white",
            "linecolor": "white",
            "ticks": ""
           },
           "bgcolor": "#E5ECF6",
           "caxis": {
            "gridcolor": "white",
            "linecolor": "white",
            "ticks": ""
           }
          },
          "title": {
           "x": 0.05
          },
          "xaxis": {
           "automargin": true,
           "gridcolor": "white",
           "linecolor": "white",
           "ticks": "",
           "title": {
            "standoff": 15
           },
           "zerolinecolor": "white",
           "zerolinewidth": 2
          },
          "yaxis": {
           "automargin": true,
           "gridcolor": "white",
           "linecolor": "white",
           "ticks": "",
           "title": {
            "standoff": 15
           },
           "zerolinecolor": "white",
           "zerolinewidth": 2
          }
         }
        }
       }
      },
      "image/png": "[encoded data removed]",
      "text/html": [
       "<div>                            <div id=\"560e6df4-0ce9-417a-8069-095a96d4119a\" class=\"plotly-graph-div\" style=\"height:525px; width:100%;\"></div>            <script type=\"text/javascript\">                require([\"plotly\"], function(Plotly) {                    window.PLOTLYENV=window.PLOTLYENV || {};                                    if (document.getElementById(\"560e6df4-0ce9-417a-8069-095a96d4119a\")) {                    Plotly.newPlot(                        \"560e6df4-0ce9-417a-8069-095a96d4119a\",                        [{\"branchvalues\":\"total\",\"customdata\":[[9.0],[8.8],[9.2],[8.7],[9.4],[8.8],[8.7],[9.0],[8.8],[9.0],[9.0],[8.8],[9.2],[8.8],[8.8],[8.7],[8.7],[9.4],[9.0]],\"domain\":{\"x\":[0.0,1.0],\"y\":[0.0,1.0]},\"hovertemplate\":\"labels=%{label}\\u003cbr\\u003eRating_sum=%{value}\\u003cbr\\u003eparent=%{parent}\\u003cbr\\u003eid=%{id}\\u003cbr\\u003eRating=%{color}\\u003cextra\\u003e\\u003c\\u002fextra\\u003e\",\"ids\":[\"Breakout\\u002fCanada\",\"Dil Bechara\\u002fIndia\",\"Fan\\u002fIndia\",\"Ratsasan\\u002fIndia\",\"The Best Years\\u002fItaly\",\"Kill Bill: The Whole Bloody Affair\\u002fJapan, United States of America\",\"National Theatre Live: Frankenstein\\u002fUnited Kingdom\",\"The Phantom of the Opera at the Royal Albert Hall\\u002fUnited Kingdom\",\"Inception\\u002fUnited Kingdom, United States of America\",\"Breakout\\u002fUnited States of America\",\"Breakout\",\"Dil Bechara\",\"Fan\",\"Inception\",\"Kill Bill: The Whole Bloody Affair\",\"National Theatre Live: Frankenstein\",\"Ratsasan\",\"The Best Years\",\"The Phantom of the Opera at the Royal Albert Hall\"],\"labels\":[\"Canada\",\"India\",\"India\",\"India\",\"Italy\",\"Japan, United States of America\",\"United Kingdom\",\"United Kingdom\",\"United Kingdom, United States of America\",\"United States of America\",\"Breakout\",\"Dil Bechara\",\"Fan\",\"Inception\",\"Kill Bill: The Whole Bloody Affair\",\"National Theatre Live: Frankenstein\",\"Ratsasan\",\"The Best Years\",\"The Phantom of the Opera at the Royal Albert Hall\"],\"marker\":{\"coloraxis\":\"coloraxis\",\"colors\":[9.0,8.8,9.2,8.7,9.4,8.8,8.7,9.0,8.8,9.0,9.0,8.8,9.2,8.8,8.8,8.7,8.7,9.4,9.0]},\"name\":\"\",\"parents\":[\"Breakout\",\"Dil Bechara\",\"Fan\",\"Ratsasan\",\"The Best Years\",\"Kill Bill: The Whole Bloody Affair\",\"National Theatre Live: Frankenstein\",\"The Phantom of the Opera at the Royal Albert Hall\",\"Inception\",\"Breakout\",\"\",\"\",\"\",\"\",\"\",\"\",\"\",\"\",\"\"],\"values\":[9.0,8.8,9.2,8.7,9.4,8.8,8.7,9.0,8.8,9.0,18.0,8.8,9.2,8.8,8.8,8.7,8.7,9.4,9.0],\"type\":\"sunburst\"}],                        {\"template\":{\"data\":{\"histogram2dcontour\":[{\"type\":\"histogram2dcontour\",\"colorbar\":{\"outlinewidth\":0,\"ticks\":\"\"},\"colorscale\":[[0.0,\"#0d0887\"],[0.1111111111111111,\"#46039f\"],[0.2222222222222222,\"#7201a8\"],[0.3333333333333333,\"#9c179e\"],[0.4444444444444444,\"#bd3786\"],[0.5555555555555556,\"#d8576b\"],[0.6666666666666666,\"#ed7953\"],[0.7777777777777778,\"#fb9f3a\"],[0.8888888888888888,\"#fdca26\"],[1.0,\"#f0f921\"]]}],\"choropleth\":[{\"type\":\"choropleth\",\"colorbar\":{\"outlinewidth\":0,\"ticks\":\"\"}}],\"histogram2d\":[{\"type\":\"histogram2d\",\"colorbar\":{\"outlinewidth\":0,\"ticks\":\"\"},\"colorscale\":[[0.0,\"#0d0887\"],[0.1111111111111111,\"#46039f\"],[0.2222222222222222,\"#7201a8\"],[0.3333333333333333,\"#9c179e\"],[0.4444444444444444,\"#bd3786\"],[0.5555555555555556,\"#d8576b\"],[0.6666666666666666,\"#ed7953\"],[0.7777777777777778,\"#fb9f3a\"],[0.8888888888888888,\"#fdca26\"],[1.0,\"#f0f921\"]]}],\"heatmap\":[{\"type\":\"heatmap\",\"colorbar\":{\"outlinewidth\":0,\"ticks\":\"\"},\"colorscale\":[[0.0,\"#0d0887\"],[0.1111111111111111,\"#46039f\"],[0.2222222222222222,\"#7201a8\"],[0.3333333333333333,\"#9c179e\"],[0.4444444444444444,\"#bd3786\"],[0.5555555555555556,\"#d8576b\"],[0.6666666666666666,\"#ed7953\"],[0.7777777777777778,\"#fb9f3a\"],[0.8888888888888888,\"#fdca26\"],[1.0,\"#f0f921\"]]}],\"heatmapgl\":[{\"type\":\"heatmapgl\",\"colorbar\":{\"outlinewidth\":0,\"ticks\":\"\"},\"colorscale\":[[0.0,\"#0d0887\"],[0.1111111111111111,\"#46039f\"],[0.2222222222222222,\"#7201a8\"],[0.3333333333333333,\"#9c179e\"],[0.4444444444444444,\"#bd3786\"],[0.5555555555555556,\"#d8576b\"],[0.6666666666666666,\"#ed7953\"],[0.7777777777777778,\"#fb9f3a\"],[0.8888888888888888,\"#fdca26\"],[1.0,\"#f0f921\"]]}],\"contourcarpet\":[{\"type\":\"contourcarpet\",\"colorbar\":{\"outlinewidth\":0,\"ticks\":\"\"}}],\"contour\":[{\"type\":\"contour\",\"colorbar\":{\"outlinewidth\":0,\"ticks\":\"\"},\"colorscale\":[[0.0,\"#0d0887\"],[0.1111111111111111,\"#46039f\"],[0.2222222222222222,\"#7201a8\"],[0.3333333333333333,\"#9c179e\"],[0.4444444444444444,\"#bd3786\"],[0.5555555555555556,\"#d8576b\"],[0.6666666666666666,\"#ed7953\"],[0.7777777777777778,\"#fb9f3a\"],[0.8888888888888888,\"#fdca26\"],[1.0,\"#f0f921\"]]}],\"surface\":[{\"type\":\"surface\",\"colorbar\":{\"outlinewidth\":0,\"ticks\":\"\"},\"colorscale\":[[0.0,\"#0d0887\"],[0.1111111111111111,\"#46039f\"],[0.2222222222222222,\"#7201a8\"],[0.3333333333333333,\"#9c179e\"],[0.4444444444444444,\"#bd3786\"],[0.5555555555555556,\"#d8576b\"],[0.6666666666666666,\"#ed7953\"],[0.7777777777777778,\"#fb9f3a\"],[0.8888888888888888,\"#fdca26\"],[1.0,\"#f0f921\"]]}],\"mesh3d\":[{\"type\":\"mesh3d\",\"colorbar\":{\"outlinewidth\":0,\"ticks\":\"\"}}],\"scatter\":[{\"fillpattern\":{\"fillmode\":\"overlay\",\"size\":10,\"solidity\":0.2},\"type\":\"scatter\"}],\"parcoords\":[{\"type\":\"parcoords\",\"line\":{\"colorbar\":{\"outlinewidth\":0,\"ticks\":\"\"}}}],\"scatterpolargl\":[{\"type\":\"scatterpolargl\",\"marker\":{\"colorbar\":{\"outlinewidth\":0,\"ticks\":\"\"}}}],\"bar\":[{\"error_x\":{\"color\":\"#2a3f5f\"},\"error_y\":{\"color\":\"#2a3f5f\"},\"marker\":{\"line\":{\"color\":\"#E5ECF6\",\"width\":0.5},\"pattern\":{\"fillmode\":\"overlay\",\"size\":10,\"solidity\":0.2}},\"type\":\"bar\"}],\"scattergeo\":[{\"type\":\"scattergeo\",\"marker\":{\"colorbar\":{\"outlinewidth\":0,\"ticks\":\"\"}}}],\"scatterpolar\":[{\"type\":\"scatterpolar\",\"marker\":{\"colorbar\":{\"outlinewidth\":0,\"ticks\":\"\"}}}],\"histogram\":[{\"marker\":{\"pattern\":{\"fillmode\":\"overlay\",\"size\":10,\"solidity\":0.2}},\"type\":\"histogram\"}],\"scattergl\":[{\"type\":\"scattergl\",\"marker\":{\"colorbar\":{\"outlinewidth\":0,\"ticks\":\"\"}}}],\"scatter3d\":[{\"type\":\"scatter3d\",\"line\":{\"colorbar\":{\"outlinewidth\":0,\"ticks\":\"\"}},\"marker\":{\"colorbar\":{\"outlinewidth\":0,\"ticks\":\"\"}}}],\"scattermapbox\":[{\"type\":\"scattermapbox\",\"marker\":{\"colorbar\":{\"outlinewidth\":0,\"ticks\":\"\"}}}],\"scatterternary\":[{\"type\":\"scatterternary\",\"marker\":{\"colorbar\":{\"outlinewidth\":0,\"ticks\":\"\"}}}],\"scattercarpet\":[{\"type\":\"scattercarpet\",\"marker\":{\"colorbar\":{\"outlinewidth\":0,\"ticks\":\"\"}}}],\"carpet\":[{\"aaxis\":{\"endlinecolor\":\"#2a3f5f\",\"gridcolor\":\"white\",\"linecolor\":\"white\",\"minorgridcolor\":\"white\",\"startlinecolor\":\"#2a3f5f\"},\"baxis\":{\"endlinecolor\":\"#2a3f5f\",\"gridcolor\":\"white\",\"linecolor\":\"white\",\"minorgridcolor\":\"white\",\"startlinecolor\":\"#2a3f5f\"},\"type\":\"carpet\"}],\"table\":[{\"cells\":{\"fill\":{\"color\":\"#EBF0F8\"},\"line\":{\"color\":\"white\"}},\"header\":{\"fill\":{\"color\":\"#C8D4E3\"},\"line\":{\"color\":\"white\"}},\"type\":\"table\"}],\"barpolar\":[{\"marker\":{\"line\":{\"color\":\"#E5ECF6\",\"width\":0.5},\"pattern\":{\"fillmode\":\"overlay\",\"size\":10,\"solidity\":0.2}},\"type\":\"barpolar\"}],\"pie\":[{\"automargin\":true,\"type\":\"pie\"}]},\"layout\":{\"autotypenumbers\":\"strict\",\"colorway\":[\"#636efa\",\"#EF553B\",\"#00cc96\",\"#ab63fa\",\"#FFA15A\",\"#19d3f3\",\"#FF6692\",\"#B6E880\",\"#FF97FF\",\"#FECB52\"],\"font\":{\"color\":\"#2a3f5f\"},\"hovermode\":\"closest\",\"hoverlabel\":{\"align\":\"left\"},\"paper_bgcolor\":\"white\",\"plot_bgcolor\":\"#E5ECF6\",\"polar\":{\"bgcolor\":\"#E5ECF6\",\"angularaxis\":{\"gridcolor\":\"white\",\"linecolor\":\"white\",\"ticks\":\"\"},\"radialaxis\":{\"gridcolor\":\"white\",\"linecolor\":\"white\",\"ticks\":\"\"}},\"ternary\":{\"bgcolor\":\"#E5ECF6\",\"aaxis\":{\"gridcolor\":\"white\",\"linecolor\":\"white\",\"ticks\":\"\"},\"baxis\":{\"gridcolor\":\"white\",\"linecolor\":\"white\",\"ticks\":\"\"},\"caxis\":{\"gridcolor\":\"white\",\"linecolor\":\"white\",\"ticks\":\"\"}},\"coloraxis\":{\"colorbar\":{\"outlinewidth\":0,\"ticks\":\"\"}},\"colorscale\":{\"sequential\":[[0.0,\"#0d0887\"],[0.1111111111111111,\"#46039f\"],[0.2222222222222222,\"#7201a8\"],[0.3333333333333333,\"#9c179e\"],[0.4444444444444444,\"#bd3786\"],[0.5555555555555556,\"#d8576b\"],[0.6666666666666666,\"#ed7953\"],[0.7777777777777778,\"#fb9f3a\"],[0.8888888888888888,\"#fdca26\"],[1.0,\"#f0f921\"]],\"sequentialminus\":[[0.0,\"#0d0887\"],[0.1111111111111111,\"#46039f\"],[0.2222222222222222,\"#7201a8\"],[0.3333333333333333,\"#9c179e\"],[0.4444444444444444,\"#bd3786\"],[0.5555555555555556,\"#d8576b\"],[0.6666666666666666,\"#ed7953\"],[0.7777777777777778,\"#fb9f3a\"],[0.8888888888888888,\"#fdca26\"],[1.0,\"#f0f921\"]],\"diverging\":[[0,\"#8e0152\"],[0.1,\"#c51b7d\"],[0.2,\"#de77ae\"],[0.3,\"#f1b6da\"],[0.4,\"#fde0ef\"],[0.5,\"#f7f7f7\"],[0.6,\"#e6f5d0\"],[0.7,\"#b8e186\"],[0.8,\"#7fbc41\"],[0.9,\"#4d9221\"],[1,\"#276419\"]]},\"xaxis\":{\"gridcolor\":\"white\",\"linecolor\":\"white\",\"ticks\":\"\",\"title\":{\"standoff\":15},\"zerolinecolor\":\"white\",\"automargin\":true,\"zerolinewidth\":2},\"yaxis\":{\"gridcolor\":\"white\",\"linecolor\":\"white\",\"ticks\":\"\",\"title\":{\"standoff\":15},\"zerolinecolor\":\"white\",\"automargin\":true,\"zerolinewidth\":2},\"scene\":{\"xaxis\":{\"backgroundcolor\":\"#E5ECF6\",\"gridcolor\":\"white\",\"linecolor\":\"white\",\"showbackground\":true,\"ticks\":\"\",\"zerolinecolor\":\"white\",\"gridwidth\":2},\"yaxis\":{\"backgroundcolor\":\"#E5ECF6\",\"gridcolor\":\"white\",\"linecolor\":\"white\",\"showbackground\":true,\"ticks\":\"\",\"zerolinecolor\":\"white\",\"gridwidth\":2},\"zaxis\":{\"backgroundcolor\":\"#E5ECF6\",\"gridcolor\":\"white\",\"linecolor\":\"white\",\"showbackground\":true,\"ticks\":\"\",\"zerolinecolor\":\"white\",\"gridwidth\":2}},\"shapedefaults\":{\"line\":{\"color\":\"#2a3f5f\"}},\"annotationdefaults\":{\"arrowcolor\":\"#2a3f5f\",\"arrowhead\":0,\"arrowwidth\":1},\"geo\":{\"bgcolor\":\"white\",\"landcolor\":\"#E5ECF6\",\"subunitcolor\":\"white\",\"showland\":true,\"showlakes\":true,\"lakecolor\":\"white\"},\"title\":{\"x\":0.05},\"mapbox\":{\"style\":\"light\"}}},\"coloraxis\":{\"colorbar\":{\"title\":{\"text\":\"Rating\"}},\"colorscale\":[[0.0,\"#0d0887\"],[0.1111111111111111,\"#46039f\"],[0.2222222222222222,\"#7201a8\"],[0.3333333333333333,\"#9c179e\"],[0.4444444444444444,\"#bd3786\"],[0.5555555555555556,\"#d8576b\"],[0.6666666666666666,\"#ed7953\"],[0.7777777777777778,\"#fb9f3a\"],[0.8888888888888888,\"#fdca26\"],[1.0,\"#f0f921\"]]},\"legend\":{\"tracegroupgap\":0},\"margin\":{\"t\":60}},                        {\"responsive\": true}                    ).then(function(){\n",
       "                            \n",
       "var gd = document.getElementById('560e6df4-0ce9-417a-8069-095a96d4119a');\n",
       "var x = new MutationObserver(function (mutations, observer) {{\n",
       "        var display = window.getComputedStyle(gd).display;\n",
       "        if (!display || display === 'none') {{\n",
       "            console.log([gd, 'removed!']);\n",
       "            Plotly.purge(gd);\n",
       "            observer.disconnect();\n",
       "        }}\n",
       "}});\n",
       "\n",
       "// Listen for the removal of the full notebook cells\n",
       "var notebookContainer = gd.closest('#notebook-container');\n",
       "if (notebookContainer) {{\n",
       "    x.observe(notebookContainer, {childList: true});\n",
       "}}\n",
       "\n",
       "// Listen for the clearing of the current output cell\n",
       "var outputEl = gd.closest('.output');\n",
       "if (outputEl) {{\n",
       "    x.observe(outputEl, {childList: true});\n",
       "}}\n",
       "\n",
       "                        })                };                });            </script>        </div>"
      ]
     },
     "metadata": {},
     "output_type": "display_data"
    }
   ],
   "source": [
    "#Top rated 10 movies in Netflix are:\n",
    "import plotly.express as px\n",
    "top_rated=joint_data[0:10]\n",
    "fig =px.sunburst(\n",
    "    top_rated,\n",
    "    path=['title','country'],\n",
    "    values='Rating',\n",
    "    color='Rating')\n",
    "fig.show()"
   ]
  },
  {
   "cell_type": "markdown",
   "id": "31be7a8a",
   "metadata": {
    "papermill": {
     "duration": 0.082031,
     "end_time": "2021-09-27T20:15:15.692130",
     "exception": false,
     "start_time": "2021-09-27T20:15:15.610099",
     "status": "completed"
    },
    "tags": []
   },
   "source": [
    "## **Top countries creating contents**"
   ]
  },
  {
   "cell_type": "code",
   "execution_count": 29,
   "id": "71d95c19",
   "metadata": {
    "papermill": {
     "duration": 0.100064,
     "end_time": "2021-09-27T20:15:15.873831",
     "exception": false,
     "start_time": "2021-09-27T20:15:15.773767",
     "status": "completed"
    },
    "tags": []
   },
   "outputs": [
    {
     "data": {
      "text/html": [
       "<div>\n",
       "<style scoped>\n",
       "    .dataframe tbody tr th:only-of-type {\n",
       "        vertical-align: middle;\n",
       "    }\n",
       "\n",
       "    .dataframe tbody tr th {\n",
       "        vertical-align: top;\n",
       "    }\n",
       "\n",
       "    .dataframe thead th {\n",
       "        text-align: right;\n",
       "    }\n",
       "</style>\n",
       "<table border=\"1\" class=\"dataframe\">\n",
       "  <thead>\n",
       "    <tr style=\"text-align: right;\">\n",
       "      <th></th>\n",
       "      <th>count</th>\n",
       "    </tr>\n",
       "    <tr>\n",
       "      <th>country</th>\n",
       "      <th></th>\n",
       "    </tr>\n",
       "  </thead>\n",
       "  <tbody>\n",
       "    <tr>\n",
       "      <th>United States of America</th>\n",
       "      <td>2753</td>\n",
       "    </tr>\n",
       "    <tr>\n",
       "      <th>United Kingdom</th>\n",
       "      <td>382</td>\n",
       "    </tr>\n",
       "    <tr>\n",
       "      <th>India</th>\n",
       "      <td>321</td>\n",
       "    </tr>\n",
       "    <tr>\n",
       "      <th>South Korea</th>\n",
       "      <td>260</td>\n",
       "    </tr>\n",
       "    <tr>\n",
       "      <th>France</th>\n",
       "      <td>222</td>\n",
       "    </tr>\n",
       "    <tr>\n",
       "      <th>United Kingdom, United States of America</th>\n",
       "      <td>200</td>\n",
       "    </tr>\n",
       "    <tr>\n",
       "      <th>Canada</th>\n",
       "      <td>186</td>\n",
       "    </tr>\n",
       "    <tr>\n",
       "      <th>Japan</th>\n",
       "      <td>167</td>\n",
       "    </tr>\n",
       "    <tr>\n",
       "      <th>Canada, United States of America</th>\n",
       "      <td>141</td>\n",
       "    </tr>\n",
       "    <tr>\n",
       "      <th>China</th>\n",
       "      <td>121</td>\n",
       "    </tr>\n",
       "    <tr>\n",
       "      <th>Australia</th>\n",
       "      <td>119</td>\n",
       "    </tr>\n",
       "  </tbody>\n",
       "</table>\n",
       "</div>"
      ],
      "text/plain": [
       "                                          count\n",
       "country                                        \n",
       "United States of America                   2753\n",
       "United Kingdom                              382\n",
       "India                                       321\n",
       "South Korea                                 260\n",
       "France                                      222\n",
       "United Kingdom, United States of America    200\n",
       "Canada                                      186\n",
       "Japan                                       167\n",
       "Canada, United States of America            141\n",
       "China                                       121\n",
       "Australia                                   119"
      ]
     },
     "execution_count": 29,
     "metadata": {},
     "output_type": "execute_result"
    }
   ],
   "source": [
    "#Top countries creating contents\n",
    "country_count=joint_data['country'].value_counts().sort_values(ascending=False)\n",
    "country_count=pd.DataFrame(country_count)\n",
    "topcountries=country_count[0:11]\n",
    "topcountries"
   ]
  },
  {
   "cell_type": "markdown",
   "id": "03f5bdc1",
   "metadata": {
    "papermill": {
     "duration": 0.081909,
     "end_time": "2021-09-27T20:15:16.037078",
     "exception": false,
     "start_time": "2021-09-27T20:15:15.955169",
     "status": "completed"
    },
    "tags": []
   },
   "source": [
    "## **Year wise analysis**"
   ]
  },
  {
   "cell_type": "code",
   "execution_count": 30,
   "id": "a3c4f46d",
   "metadata": {
    "papermill": {
     "duration": 0.106044,
     "end_time": "2021-09-27T20:15:16.225853",
     "exception": false,
     "start_time": "2021-09-27T20:15:16.119809",
     "status": "completed"
    },
    "tags": []
   },
   "outputs": [
    {
     "data": {
      "text/html": [
       "<div>\n",
       "<style scoped>\n",
       "    .dataframe tbody tr th:only-of-type {\n",
       "        vertical-align: middle;\n",
       "    }\n",
       "\n",
       "    .dataframe tbody tr th {\n",
       "        vertical-align: top;\n",
       "    }\n",
       "\n",
       "    .dataframe thead th {\n",
       "        text-align: right;\n",
       "    }\n",
       "</style>\n",
       "<table border=\"1\" class=\"dataframe\">\n",
       "  <thead>\n",
       "    <tr style=\"text-align: right;\">\n",
       "      <th></th>\n",
       "      <th>show_id</th>\n",
       "      <th>country</th>\n",
       "      <th>vote_count</th>\n",
       "      <th>duration</th>\n",
       "      <th>title</th>\n",
       "      <th>director</th>\n",
       "      <th>release_year</th>\n",
       "      <th>popularity</th>\n",
       "      <th>revenue</th>\n",
       "      <th>rating</th>\n",
       "      <th>language</th>\n",
       "      <th>vote_average</th>\n",
       "      <th>cast</th>\n",
       "      <th>genres</th>\n",
       "      <th>date_added</th>\n",
       "      <th>budget</th>\n",
       "      <th>description</th>\n",
       "      <th>type</th>\n",
       "    </tr>\n",
       "  </thead>\n",
       "  <tbody>\n",
       "    <tr>\n",
       "      <th>0</th>\n",
       "      <td>33238</td>\n",
       "      <td>South Korea</td>\n",
       "      <td>187</td>\n",
       "      <td>1 Seasons</td>\n",
       "      <td>Running Man</td>\n",
       "      <td>안재철</td>\n",
       "      <td>2010</td>\n",
       "      <td>1929.898</td>\n",
       "      <td>NaN</td>\n",
       "      <td>8.241</td>\n",
       "      <td>ko</td>\n",
       "      <td>8.241</td>\n",
       "      <td>Yoo Jae-suk, Jee Seok-jin, Kim Jong-kook, Haha...</td>\n",
       "      <td>Comedy, Reality</td>\n",
       "      <td>2010-07-11</td>\n",
       "      <td>NaN</td>\n",
       "      <td>A reality and competition show where members a...</td>\n",
       "      <td>TV Show</td>\n",
       "    </tr>\n",
       "    <tr>\n",
       "      <th>1</th>\n",
       "      <td>32415</td>\n",
       "      <td>United States of America</td>\n",
       "      <td>229</td>\n",
       "      <td>1 Seasons</td>\n",
       "      <td>Conan</td>\n",
       "      <td>NaN</td>\n",
       "      <td>2010</td>\n",
       "      <td>1670.580</td>\n",
       "      <td>NaN</td>\n",
       "      <td>7.035</td>\n",
       "      <td>en</td>\n",
       "      <td>7.035</td>\n",
       "      <td>Conan O'Brien, Andy Richter</td>\n",
       "      <td>Talk, Comedy, News</td>\n",
       "      <td>2010-11-08</td>\n",
       "      <td>NaN</td>\n",
       "      <td>A late night television talk show hosted by  C...</td>\n",
       "      <td>TV Show</td>\n",
       "    </tr>\n",
       "    <tr>\n",
       "      <th>2</th>\n",
       "      <td>37757</td>\n",
       "      <td>Greece</td>\n",
       "      <td>6</td>\n",
       "      <td>1 Seasons</td>\n",
       "      <td>MasterChef Greece</td>\n",
       "      <td>NaN</td>\n",
       "      <td>2010</td>\n",
       "      <td>1317.092</td>\n",
       "      <td>NaN</td>\n",
       "      <td>5.600</td>\n",
       "      <td>el</td>\n",
       "      <td>5.600</td>\n",
       "      <td>NaN</td>\n",
       "      <td>Reality</td>\n",
       "      <td>2010-10-03</td>\n",
       "      <td>NaN</td>\n",
       "      <td>MasterChef Greece is a Greek competitive cooki...</td>\n",
       "      <td>TV Show</td>\n",
       "    </tr>\n",
       "    <tr>\n",
       "      <th>3</th>\n",
       "      <td>75685</td>\n",
       "      <td>Czech Republic</td>\n",
       "      <td>6</td>\n",
       "      <td>1 Seasons</td>\n",
       "      <td>Prostřeno!</td>\n",
       "      <td>NaN</td>\n",
       "      <td>2010</td>\n",
       "      <td>1095.776</td>\n",
       "      <td>NaN</td>\n",
       "      <td>6.500</td>\n",
       "      <td>cs</td>\n",
       "      <td>6.500</td>\n",
       "      <td>Václav Vydra, Jana Boušková</td>\n",
       "      <td>Reality</td>\n",
       "      <td>2010-03-01</td>\n",
       "      <td>NaN</td>\n",
       "      <td>The knives (and forks) are out as a group of s...</td>\n",
       "      <td>TV Show</td>\n",
       "    </tr>\n",
       "    <tr>\n",
       "      <th>4</th>\n",
       "      <td>33847</td>\n",
       "      <td>United States of America, Ireland</td>\n",
       "      <td>12</td>\n",
       "      <td>1 Seasons</td>\n",
       "      <td>The Talk</td>\n",
       "      <td>NaN</td>\n",
       "      <td>2010</td>\n",
       "      <td>712.070</td>\n",
       "      <td>NaN</td>\n",
       "      <td>3.400</td>\n",
       "      <td>en</td>\n",
       "      <td>3.400</td>\n",
       "      <td>Amanda Kloots, Jerry O'Connell, Akbar Gbaja-Bi...</td>\n",
       "      <td>Talk</td>\n",
       "      <td>2010-10-18</td>\n",
       "      <td>NaN</td>\n",
       "      <td>A panel of well-known news and entertainment p...</td>\n",
       "      <td>TV Show</td>\n",
       "    </tr>\n",
       "  </tbody>\n",
       "</table>\n",
       "</div>"
      ],
      "text/plain": [
       "   show_id                            country  vote_count   duration  \\\n",
       "0    33238                        South Korea         187  1 Seasons   \n",
       "1    32415           United States of America         229  1 Seasons   \n",
       "2    37757                             Greece           6  1 Seasons   \n",
       "3    75685                     Czech Republic           6  1 Seasons   \n",
       "4    33847  United States of America, Ireland          12  1 Seasons   \n",
       "\n",
       "               title director  release_year  popularity  revenue  rating  \\\n",
       "0        Running Man      안재철          2010    1929.898      NaN   8.241   \n",
       "1              Conan      NaN          2010    1670.580      NaN   7.035   \n",
       "2  MasterChef Greece      NaN          2010    1317.092      NaN   5.600   \n",
       "3         Prostřeno!      NaN          2010    1095.776      NaN   6.500   \n",
       "4           The Talk      NaN          2010     712.070      NaN   3.400   \n",
       "\n",
       "  language  vote_average                                               cast  \\\n",
       "0       ko         8.241  Yoo Jae-suk, Jee Seok-jin, Kim Jong-kook, Haha...   \n",
       "1       en         7.035                        Conan O'Brien, Andy Richter   \n",
       "2       el         5.600                                                NaN   \n",
       "3       cs         6.500                        Václav Vydra, Jana Boušková   \n",
       "4       en         3.400  Amanda Kloots, Jerry O'Connell, Akbar Gbaja-Bi...   \n",
       "\n",
       "               genres  date_added  budget  \\\n",
       "0     Comedy, Reality  2010-07-11     NaN   \n",
       "1  Talk, Comedy, News  2010-11-08     NaN   \n",
       "2             Reality  2010-10-03     NaN   \n",
       "3             Reality  2010-03-01     NaN   \n",
       "4                Talk  2010-10-18     NaN   \n",
       "\n",
       "                                         description     type  \n",
       "0  A reality and competition show where members a...  TV Show  \n",
       "1  A late night television talk show hosted by  C...  TV Show  \n",
       "2  MasterChef Greece is a Greek competitive cooki...  TV Show  \n",
       "3  The knives (and forks) are out as a group of s...  TV Show  \n",
       "4  A panel of well-known news and entertainment p...  TV Show  "
      ]
     },
     "execution_count": 30,
     "metadata": {},
     "output_type": "execute_result"
    }
   ],
   "source": [
    "Last_fifteen_years = netflix_dataset[netflix_dataset['release_year']>2005 ]\n",
    "Last_fifteen_years.head()"
   ]
  },
  {
   "cell_type": "code",
   "execution_count": 31,
   "id": "a68ddf77",
   "metadata": {
    "papermill": {
     "duration": 0.444209,
     "end_time": "2021-09-27T20:15:16.754531",
     "exception": false,
     "start_time": "2021-09-27T20:15:16.310322",
     "status": "completed"
    },
    "tags": []
   },
   "outputs": [
    {
     "data": {
      "image/png": "[encoded data removed]",
      "text/plain": [
       "<Figure size 1200x1000 with 1 Axes>"
      ]
     },
     "metadata": {},
     "output_type": "display_data"
    }
   ],
   "source": [
    "#Year wise analysis\n",
    "plt.figure(figsize=(12,10))\n",
    "sns.set(style=\"darkgrid\")\n",
    "ax = sns.countplot(y=\"release_year\", data=Last_fifteen_years, palette=\"Set1\", order=netflix_dataset['release_year'].value_counts().index[0:15])"
   ]
  },
  {
   "cell_type": "markdown",
   "id": "e02c5e25",
   "metadata": {
    "papermill": {
     "duration": 0.083534,
     "end_time": "2021-09-27T20:15:16.923467",
     "exception": false,
     "start_time": "2021-09-27T20:15:16.839933",
     "status": "completed"
    },
    "tags": []
   },
   "source": [
    "Thus, 2018 was the year when most of the content were released."
   ]
  },
  {
   "cell_type": "markdown",
   "id": "6fecf633",
   "metadata": {
    "papermill": {
     "duration": 0.084278,
     "end_time": "2021-09-27T20:15:17.091266",
     "exception": false,
     "start_time": "2021-09-27T20:15:17.006988",
     "status": "completed"
    },
    "tags": []
   },
   "source": [
    "## **Analysis of TV Shows in Netflix** "
   ]
  },
  {
   "cell_type": "code",
   "execution_count": 32,
   "id": "301ec531",
   "metadata": {
    "papermill": {
     "duration": 0.105245,
     "end_time": "2021-09-27T20:15:17.281494",
     "exception": false,
     "start_time": "2021-09-27T20:15:17.176249",
     "status": "completed"
    },
    "tags": []
   },
   "outputs": [],
   "source": [
    "#Analysis of TV Shows in Netflix\n",
    "\n",
    "countries={}\n",
    "netflix_shows['country']=netflix_shows['country'].fillna('Unknown')\n",
    "cou=list(netflix_shows['country'])\n",
    "for i in cou:\n",
    "    #print(i)\n",
    "    i=list(i.split(','))\n",
    "    if len(i)==1:\n",
    "        if i in list(countries.keys()):\n",
    "            countries[i]+=1\n",
    "        else:\n",
    "            countries[i[0]]=1\n",
    "    else:\n",
    "        for j in i:\n",
    "            if j in list(countries.keys()):\n",
    "                countries[j]+=1\n",
    "            else:\n",
    "                countries[j]=1"
   ]
  },
  {
   "cell_type": "code",
   "execution_count": 21,
   "id": "3b3c029f",
   "metadata": {
    "papermill": {
     "duration": 0.093886,
     "end_time": "2021-09-27T20:15:17.461987",
     "exception": false,
     "start_time": "2021-09-27T20:15:17.368101",
     "status": "completed"
    },
    "tags": []
   },
   "outputs": [],
   "source": [
    "countries_fin={}\n",
    "for country,no in countries.items():\n",
    "    country=country.replace(' ','')\n",
    "    if country in list(countries_fin.keys()):\n",
    "        countries_fin[country]+=no\n",
    "    else:\n",
    "        countries_fin[country]=no\n",
    "        \n",
    "countries_fin={k: v for k, v in sorted(countries_fin.items(), key=lambda item: item[1], reverse= True)}"
   ]
  },
  {
   "cell_type": "code",
   "execution_count": 22,
   "id": "b55d57dc",
   "metadata": {
    "papermill": {
     "duration": 0.41704,
     "end_time": "2021-09-27T20:15:17.962951",
     "exception": false,
     "start_time": "2021-09-27T20:15:17.545911",
     "status": "completed"
    },
    "tags": []
   },
   "outputs": [
    {
     "data": {
      "text/plain": [
       "[Text(0, 0, 'UnitedStatesofAmerica'),\n",
       " Text(1, 0, 'UnitedKingdom'),\n",
       " Text(2, 0, 'France'),\n",
       " Text(3, 0, 'Canada'),\n",
       " Text(4, 0, 'Germany'),\n",
       " Text(5, 0, 'Mexico'),\n",
       " Text(6, 0, 'SouthKorea'),\n",
       " Text(7, 0, 'Ireland'),\n",
       " Text(8, 0, 'Japan'),\n",
       " Text(9, 0, 'Italy')]"
      ]
     },
     "execution_count": 22,
     "metadata": {},
     "output_type": "execute_result"
    },
    {
     "data": {
      "image/png": "[encoded data removed]",
      "text/plain": [
       "<Figure size 800x800 with 1 Axes>"
      ]
     },
     "metadata": {},
     "output_type": "display_data"
    }
   ],
   "source": [
    "# Top 10 TV shows creating countries.\n",
    "\n",
    "plt.figure(figsize=(8,8))\n",
    "ax = sns.barplot(x=list(countries_fin.keys())[0:10],y=list(countries_fin.values())[0:10])\n",
    "ax.set_xticklabels(list(countries_fin.keys())[0:10],rotation = 90)"
   ]
  },
  {
   "cell_type": "markdown",
   "id": "1a7b704e",
   "metadata": {
    "papermill": {
     "duration": 0.083747,
     "end_time": "2021-09-27T20:15:18.131822",
     "exception": false,
     "start_time": "2021-09-27T20:15:18.048075",
     "status": "completed"
    },
    "tags": []
   },
   "source": [
    "United States has the most TV Shows contents that were created in netflix."
   ]
  },
  {
   "cell_type": "markdown",
   "id": "dae92ece",
   "metadata": {
    "papermill": {
     "duration": 0.084373,
     "end_time": "2021-09-27T20:15:18.301290",
     "exception": false,
     "start_time": "2021-09-27T20:15:18.216917",
     "status": "completed"
    },
    "tags": []
   },
   "source": [
    "## **Analysis of duration of movies** "
   ]
  },
  {
   "cell_type": "code",
   "execution_count": 9,
   "id": "f4df5bbf",
   "metadata": {
    "papermill": {
     "duration": 0.10517,
     "end_time": "2021-09-27T20:15:18.521633",
     "exception": false,
     "start_time": "2021-09-27T20:15:18.416463",
     "status": "completed"
    },
    "tags": []
   },
   "outputs": [
    {
     "ename": "ValueError",
     "evalue": "invalid literal for int() with base 10: 'nan'",
     "output_type": "error",
     "traceback": [
      "\u001b[1;31m---------------------------------------------------------------------------\u001b[0m",
      "\u001b[1;31mValueError\u001b[0m                                Traceback (most recent call last)",
      "Cell \u001b[1;32mIn[9], line 4\u001b[0m\n\u001b[0;32m      1\u001b[0m \u001b[38;5;66;03m#Analysis of duration of movies\u001b[39;00m\n\u001b[0;32m      3\u001b[0m netflix_movies[\u001b[38;5;124m'\u001b[39m\u001b[38;5;124mduration\u001b[39m\u001b[38;5;124m'\u001b[39m]\u001b[38;5;241m=\u001b[39mnetflix_movies[\u001b[38;5;124m'\u001b[39m\u001b[38;5;124mduration\u001b[39m\u001b[38;5;124m'\u001b[39m]\u001b[38;5;241m.\u001b[39mstr\u001b[38;5;241m.\u001b[39mreplace(\u001b[38;5;124m'\u001b[39m\u001b[38;5;124m min\u001b[39m\u001b[38;5;124m'\u001b[39m,\u001b[38;5;124m'\u001b[39m\u001b[38;5;124m'\u001b[39m)\n\u001b[1;32m----> 4\u001b[0m netflix_movies[\u001b[38;5;124m'\u001b[39m\u001b[38;5;124mduration\u001b[39m\u001b[38;5;124m'\u001b[39m]\u001b[38;5;241m=\u001b[39mnetflix_movies[\u001b[38;5;124m'\u001b[39m\u001b[38;5;124mduration\u001b[39m\u001b[38;5;124m'\u001b[39m]\u001b[38;5;241m.\u001b[39mastype(\u001b[38;5;28mstr\u001b[39m)\u001b[38;5;241m.\u001b[39mastype(\u001b[38;5;28mint\u001b[39m)\n\u001b[0;32m      5\u001b[0m netflix_movies[\u001b[38;5;124m'\u001b[39m\u001b[38;5;124mduration\u001b[39m\u001b[38;5;124m'\u001b[39m]\n",
      "File \u001b[1;32mC:\\ProgramData\\anaconda3\\Lib\\site-packages\\pandas\\core\\generic.py:6643\u001b[0m, in \u001b[0;36mNDFrame.astype\u001b[1;34m(self, dtype, copy, errors)\u001b[0m\n\u001b[0;32m   6637\u001b[0m     results \u001b[38;5;241m=\u001b[39m [\n\u001b[0;32m   6638\u001b[0m         ser\u001b[38;5;241m.\u001b[39mastype(dtype, copy\u001b[38;5;241m=\u001b[39mcopy, errors\u001b[38;5;241m=\u001b[39merrors) \u001b[38;5;28;01mfor\u001b[39;00m _, ser \u001b[38;5;129;01min\u001b[39;00m \u001b[38;5;28mself\u001b[39m\u001b[38;5;241m.\u001b[39mitems()\n\u001b[0;32m   6639\u001b[0m     ]\n\u001b[0;32m   6641\u001b[0m \u001b[38;5;28;01melse\u001b[39;00m:\n\u001b[0;32m   6642\u001b[0m     \u001b[38;5;66;03m# else, only a single dtype is given\u001b[39;00m\n\u001b[1;32m-> 6643\u001b[0m     new_data \u001b[38;5;241m=\u001b[39m \u001b[38;5;28mself\u001b[39m\u001b[38;5;241m.\u001b[39m_mgr\u001b[38;5;241m.\u001b[39mastype(dtype\u001b[38;5;241m=\u001b[39mdtype, copy\u001b[38;5;241m=\u001b[39mcopy, errors\u001b[38;5;241m=\u001b[39merrors)\n\u001b[0;32m   6644\u001b[0m     res \u001b[38;5;241m=\u001b[39m \u001b[38;5;28mself\u001b[39m\u001b[38;5;241m.\u001b[39m_constructor_from_mgr(new_data, axes\u001b[38;5;241m=\u001b[39mnew_data\u001b[38;5;241m.\u001b[39maxes)\n\u001b[0;32m   6645\u001b[0m     \u001b[38;5;28;01mreturn\u001b[39;00m res\u001b[38;5;241m.\u001b[39m__finalize__(\u001b[38;5;28mself\u001b[39m, method\u001b[38;5;241m=\u001b[39m\u001b[38;5;124m\"\u001b[39m\u001b[38;5;124mastype\u001b[39m\u001b[38;5;124m\"\u001b[39m)\n",
      "File \u001b[1;32mC:\\ProgramData\\anaconda3\\Lib\\site-packages\\pandas\\core\\internals\\managers.py:430\u001b[0m, in \u001b[0;36mBaseBlockManager.astype\u001b[1;34m(self, dtype, copy, errors)\u001b[0m\n\u001b[0;32m    427\u001b[0m \u001b[38;5;28;01melif\u001b[39;00m using_copy_on_write():\n\u001b[0;32m    428\u001b[0m     copy \u001b[38;5;241m=\u001b[39m \u001b[38;5;28;01mFalse\u001b[39;00m\n\u001b[1;32m--> 430\u001b[0m \u001b[38;5;28;01mreturn\u001b[39;00m \u001b[38;5;28mself\u001b[39m\u001b[38;5;241m.\u001b[39mapply(\n\u001b[0;32m    431\u001b[0m     \u001b[38;5;124m\"\u001b[39m\u001b[38;5;124mastype\u001b[39m\u001b[38;5;124m\"\u001b[39m,\n\u001b[0;32m    432\u001b[0m     dtype\u001b[38;5;241m=\u001b[39mdtype,\n\u001b[0;32m    433\u001b[0m     copy\u001b[38;5;241m=\u001b[39mcopy,\n\u001b[0;32m    434\u001b[0m     errors\u001b[38;5;241m=\u001b[39merrors,\n\u001b[0;32m    435\u001b[0m     using_cow\u001b[38;5;241m=\u001b[39musing_copy_on_write(),\n\u001b[0;32m    436\u001b[0m )\n",
      "File \u001b[1;32mC:\\ProgramData\\anaconda3\\Lib\\site-packages\\pandas\\core\\internals\\managers.py:363\u001b[0m, in \u001b[0;36mBaseBlockManager.apply\u001b[1;34m(self, f, align_keys, **kwargs)\u001b[0m\n\u001b[0;32m    361\u001b[0m         applied \u001b[38;5;241m=\u001b[39m b\u001b[38;5;241m.\u001b[39mapply(f, \u001b[38;5;241m*\u001b[39m\u001b[38;5;241m*\u001b[39mkwargs)\n\u001b[0;32m    362\u001b[0m     \u001b[38;5;28;01melse\u001b[39;00m:\n\u001b[1;32m--> 363\u001b[0m         applied \u001b[38;5;241m=\u001b[39m \u001b[38;5;28mgetattr\u001b[39m(b, f)(\u001b[38;5;241m*\u001b[39m\u001b[38;5;241m*\u001b[39mkwargs)\n\u001b[0;32m    364\u001b[0m     result_blocks \u001b[38;5;241m=\u001b[39m extend_blocks(applied, result_blocks)\n\u001b[0;32m    366\u001b[0m out \u001b[38;5;241m=\u001b[39m \u001b[38;5;28mtype\u001b[39m(\u001b[38;5;28mself\u001b[39m)\u001b[38;5;241m.\u001b[39mfrom_blocks(result_blocks, \u001b[38;5;28mself\u001b[39m\u001b[38;5;241m.\u001b[39maxes)\n",
      "File \u001b[1;32mC:\\ProgramData\\anaconda3\\Lib\\site-packages\\pandas\\core\\internals\\blocks.py:758\u001b[0m, in \u001b[0;36mBlock.astype\u001b[1;34m(self, dtype, copy, errors, using_cow, squeeze)\u001b[0m\n\u001b[0;32m    755\u001b[0m         \u001b[38;5;28;01mraise\u001b[39;00m \u001b[38;5;167;01mValueError\u001b[39;00m(\u001b[38;5;124m\"\u001b[39m\u001b[38;5;124mCan not squeeze with more than one column.\u001b[39m\u001b[38;5;124m\"\u001b[39m)\n\u001b[0;32m    756\u001b[0m     values \u001b[38;5;241m=\u001b[39m values[\u001b[38;5;241m0\u001b[39m, :]  \u001b[38;5;66;03m# type: ignore[call-overload]\u001b[39;00m\n\u001b[1;32m--> 758\u001b[0m new_values \u001b[38;5;241m=\u001b[39m astype_array_safe(values, dtype, copy\u001b[38;5;241m=\u001b[39mcopy, errors\u001b[38;5;241m=\u001b[39merrors)\n\u001b[0;32m    760\u001b[0m new_values \u001b[38;5;241m=\u001b[39m maybe_coerce_values(new_values)\n\u001b[0;32m    762\u001b[0m refs \u001b[38;5;241m=\u001b[39m \u001b[38;5;28;01mNone\u001b[39;00m\n",
      "File \u001b[1;32mC:\\ProgramData\\anaconda3\\Lib\\site-packages\\pandas\\core\\dtypes\\astype.py:237\u001b[0m, in \u001b[0;36mastype_array_safe\u001b[1;34m(values, dtype, copy, errors)\u001b[0m\n\u001b[0;32m    234\u001b[0m     dtype \u001b[38;5;241m=\u001b[39m dtype\u001b[38;5;241m.\u001b[39mnumpy_dtype\n\u001b[0;32m    236\u001b[0m \u001b[38;5;28;01mtry\u001b[39;00m:\n\u001b[1;32m--> 237\u001b[0m     new_values \u001b[38;5;241m=\u001b[39m astype_array(values, dtype, copy\u001b[38;5;241m=\u001b[39mcopy)\n\u001b[0;32m    238\u001b[0m \u001b[38;5;28;01mexcept\u001b[39;00m (\u001b[38;5;167;01mValueError\u001b[39;00m, \u001b[38;5;167;01mTypeError\u001b[39;00m):\n\u001b[0;32m    239\u001b[0m     \u001b[38;5;66;03m# e.g. _astype_nansafe can fail on object-dtype of strings\u001b[39;00m\n\u001b[0;32m    240\u001b[0m     \u001b[38;5;66;03m#  trying to convert to float\u001b[39;00m\n\u001b[0;32m    241\u001b[0m     \u001b[38;5;28;01mif\u001b[39;00m errors \u001b[38;5;241m==\u001b[39m \u001b[38;5;124m\"\u001b[39m\u001b[38;5;124mignore\u001b[39m\u001b[38;5;124m\"\u001b[39m:\n",
      "File \u001b[1;32mC:\\ProgramData\\anaconda3\\Lib\\site-packages\\pandas\\core\\dtypes\\astype.py:182\u001b[0m, in \u001b[0;36mastype_array\u001b[1;34m(values, dtype, copy)\u001b[0m\n\u001b[0;32m    179\u001b[0m     values \u001b[38;5;241m=\u001b[39m values\u001b[38;5;241m.\u001b[39mastype(dtype, copy\u001b[38;5;241m=\u001b[39mcopy)\n\u001b[0;32m    181\u001b[0m \u001b[38;5;28;01melse\u001b[39;00m:\n\u001b[1;32m--> 182\u001b[0m     values \u001b[38;5;241m=\u001b[39m _astype_nansafe(values, dtype, copy\u001b[38;5;241m=\u001b[39mcopy)\n\u001b[0;32m    184\u001b[0m \u001b[38;5;66;03m# in pandas we don't store numpy str dtypes, so convert to object\u001b[39;00m\n\u001b[0;32m    185\u001b[0m \u001b[38;5;28;01mif\u001b[39;00m \u001b[38;5;28misinstance\u001b[39m(dtype, np\u001b[38;5;241m.\u001b[39mdtype) \u001b[38;5;129;01mand\u001b[39;00m \u001b[38;5;28missubclass\u001b[39m(values\u001b[38;5;241m.\u001b[39mdtype\u001b[38;5;241m.\u001b[39mtype, \u001b[38;5;28mstr\u001b[39m):\n",
      "File \u001b[1;32mC:\\ProgramData\\anaconda3\\Lib\\site-packages\\pandas\\core\\dtypes\\astype.py:133\u001b[0m, in \u001b[0;36m_astype_nansafe\u001b[1;34m(arr, dtype, copy, skipna)\u001b[0m\n\u001b[0;32m    129\u001b[0m     \u001b[38;5;28;01mraise\u001b[39;00m \u001b[38;5;167;01mValueError\u001b[39;00m(msg)\n\u001b[0;32m    131\u001b[0m \u001b[38;5;28;01mif\u001b[39;00m copy \u001b[38;5;129;01mor\u001b[39;00m arr\u001b[38;5;241m.\u001b[39mdtype \u001b[38;5;241m==\u001b[39m \u001b[38;5;28mobject\u001b[39m \u001b[38;5;129;01mor\u001b[39;00m dtype \u001b[38;5;241m==\u001b[39m \u001b[38;5;28mobject\u001b[39m:\n\u001b[0;32m    132\u001b[0m     \u001b[38;5;66;03m# Explicit copy, or required since NumPy can't view from / to object.\u001b[39;00m\n\u001b[1;32m--> 133\u001b[0m     \u001b[38;5;28;01mreturn\u001b[39;00m arr\u001b[38;5;241m.\u001b[39mastype(dtype, copy\u001b[38;5;241m=\u001b[39m\u001b[38;5;28;01mTrue\u001b[39;00m)\n\u001b[0;32m    135\u001b[0m \u001b[38;5;28;01mreturn\u001b[39;00m arr\u001b[38;5;241m.\u001b[39mastype(dtype, copy\u001b[38;5;241m=\u001b[39mcopy)\n",
      "\u001b[1;31mValueError\u001b[0m: invalid literal for int() with base 10: 'nan'"
     ]
    }
   ],
   "source": [
    "#Analysis of duration of movies\n",
    "\n",
    "netflix_movies['duration']=netflix_movies['duration'].str.replace(' min','')\n",
    "netflix_movies['duration']=netflix_movies['duration'].astype(str).astype(int)\n",
    "netflix_movies['duration']"
   ]
  },
  {
   "cell_type": "code",
   "execution_count": 25,
   "id": "bb4704be",
   "metadata": {
    "papermill": {
     "duration": 0.590425,
     "end_time": "2021-09-27T20:15:19.196688",
     "exception": false,
     "start_time": "2021-09-27T20:15:18.606263",
     "status": "completed"
    },
    "tags": []
   },
   "outputs": [
    {
     "data": {
      "image/png": "[encoded data removed]",
      "text/plain": [
       "<Figure size 640x480 with 1 Axes>"
      ]
     },
     "metadata": {},
     "output_type": "display_data"
    }
   ],
   "source": [
    "sns.set(style=\"darkgrid\")\n",
    "ax=sns.kdeplot(data=netflix_movies['duration'], shade=True)"
   ]
  },
  {
   "cell_type": "markdown",
   "id": "c946823f",
   "metadata": {
    "papermill": {
     "duration": 0.086203,
     "end_time": "2021-09-27T20:15:19.371164",
     "exception": false,
     "start_time": "2021-09-27T20:15:19.284961",
     "status": "completed"
    },
    "tags": []
   },
   "source": [
    "So, a good amount of movies on Netflix are among the duration of 75-120 mins. It is acceptable considering the fact that a fair amount of the audience cannot watch a 3 hour movie in one sitting."
   ]
  },
  {
   "cell_type": "markdown",
   "id": "b346d053",
   "metadata": {
    "papermill": {
     "duration": 0.085031,
     "end_time": "2021-09-27T20:15:19.541978",
     "exception": false,
     "start_time": "2021-09-27T20:15:19.456947",
     "status": "completed"
    },
    "tags": []
   },
   "source": [
    "## **Analysis of duration of TV shows**"
   ]
  },
  {
   "cell_type": "code",
   "execution_count": 34,
   "id": "38ab7cd0",
   "metadata": {
    "papermill": {
     "duration": 0.103601,
     "end_time": "2021-09-27T20:15:19.731921",
     "exception": false,
     "start_time": "2021-09-27T20:15:19.628320",
     "status": "completed"
    },
    "tags": []
   },
   "outputs": [
    {
     "data": {
      "text/html": [
       "<div>\n",
       "<style scoped>\n",
       "    .dataframe tbody tr th:only-of-type {\n",
       "        vertical-align: middle;\n",
       "    }\n",
       "\n",
       "    .dataframe tbody tr th {\n",
       "        vertical-align: top;\n",
       "    }\n",
       "\n",
       "    .dataframe thead th {\n",
       "        text-align: right;\n",
       "    }\n",
       "</style>\n",
       "<table border=\"1\" class=\"dataframe\">\n",
       "  <thead>\n",
       "    <tr style=\"text-align: right;\">\n",
       "      <th></th>\n",
       "      <th>title</th>\n",
       "      <th>duration</th>\n",
       "      <th>no_of_seasons</th>\n",
       "    </tr>\n",
       "  </thead>\n",
       "  <tbody>\n",
       "    <tr>\n",
       "      <th>0</th>\n",
       "      <td>Running Man</td>\n",
       "      <td>1 Seasons</td>\n",
       "      <td>1</td>\n",
       "    </tr>\n",
       "    <tr>\n",
       "      <th>1</th>\n",
       "      <td>Conan</td>\n",
       "      <td>1 Seasons</td>\n",
       "      <td>1</td>\n",
       "    </tr>\n",
       "    <tr>\n",
       "      <th>2</th>\n",
       "      <td>MasterChef Greece</td>\n",
       "      <td>1 Seasons</td>\n",
       "      <td>1</td>\n",
       "    </tr>\n",
       "    <tr>\n",
       "      <th>3</th>\n",
       "      <td>Prostřeno!</td>\n",
       "      <td>1 Seasons</td>\n",
       "      <td>1</td>\n",
       "    </tr>\n",
       "    <tr>\n",
       "      <th>4</th>\n",
       "      <td>The Talk</td>\n",
       "      <td>1 Seasons</td>\n",
       "      <td>1</td>\n",
       "    </tr>\n",
       "  </tbody>\n",
       "</table>\n",
       "</div>"
      ],
      "text/plain": [
       "               title   duration  no_of_seasons\n",
       "0        Running Man  1 Seasons              1\n",
       "1              Conan  1 Seasons              1\n",
       "2  MasterChef Greece  1 Seasons              1\n",
       "3         Prostřeno!  1 Seasons              1\n",
       "4           The Talk  1 Seasons              1"
      ]
     },
     "execution_count": 34,
     "metadata": {},
     "output_type": "execute_result"
    }
   ],
   "source": [
    "# Seleccionar columnas\n",
    "features = ['title', 'duration']\n",
    "durations = netflix_dataset[features].copy()\n",
    "\n",
    "# Limpiar columna 'duration'\n",
    "durations['no_of_seasons'] = durations['duration'].str.replace(' Season', '', regex=False)\n",
    "durations['no_of_seasons'] = durations['no_of_seasons'].str.replace('s', '', regex=False)\n",
    "\n",
    "# Eliminar filas con NaN\n",
    "durations = durations.dropna(subset=['no_of_seasons'])\n",
    "\n",
    "# Convertir a entero\n",
    "durations['no_of_seasons'] = durations['no_of_seasons'].astype(int)\n",
    "\n",
    "# Ver resultado\n",
    "durations.head()"
   ]
  },
  {
   "cell_type": "code",
   "execution_count": 35,
   "id": "81047a4b",
   "metadata": {
    "papermill": {
     "duration": 0.095615,
     "end_time": "2021-09-27T20:15:19.914002",
     "exception": false,
     "start_time": "2021-09-27T20:15:19.818387",
     "status": "completed"
    },
    "tags": []
   },
   "outputs": [],
   "source": [
    "durations['no_of_seasons']=durations['no_of_seasons'].astype(str).astype(int)"
   ]
  },
  {
   "cell_type": "code",
   "execution_count": 36,
   "id": "336eea23",
   "metadata": {
    "papermill": {
     "duration": 0.098314,
     "end_time": "2021-09-27T20:15:20.097669",
     "exception": false,
     "start_time": "2021-09-27T20:15:19.999355",
     "status": "completed"
    },
    "tags": []
   },
   "outputs": [],
   "source": [
    "#TV shows with largest number of seasons\n",
    "t=['title','no_of_seasons']\n",
    "top=durations[t]\n",
    "\n",
    "top=top.sort_values(by='no_of_seasons', ascending=False)"
   ]
  },
  {
   "cell_type": "code",
   "execution_count": 37,
   "id": "4f7f6a48",
   "metadata": {
    "papermill": {
     "duration": 0.596555,
     "end_time": "2021-09-27T20:15:20.779749",
     "exception": false,
     "start_time": "2021-09-27T20:15:20.183194",
     "status": "completed"
    },
    "tags": []
   },
   "outputs": [
    {
     "data": {
      "text/plain": [
       "<Axes: xlabel='title'>"
      ]
     },
     "execution_count": 37,
     "metadata": {},
     "output_type": "execute_result"
    },
    {
     "data": {
      "image/png": "[encoded data removed]",
      "text/plain": [
       "<Figure size 640x480 with 1 Axes>"
      ]
     },
     "metadata": {},
     "output_type": "display_data"
    }
   ],
   "source": [
    "top20=top[0:20]\n",
    "top20.plot(kind='bar',x='title',y='no_of_seasons', color='blue')"
   ]
  },
  {
   "cell_type": "markdown",
   "id": "aecdc221",
   "metadata": {
    "papermill": {
     "duration": 0.129249,
     "end_time": "2021-09-27T20:15:20.998915",
     "exception": false,
     "start_time": "2021-09-27T20:15:20.869666",
     "status": "completed"
    },
    "tags": []
   },
   "source": [
    "Thus, Grey's Anatomy, NCIS and Supernatural are amongst the tv series that have highest number of seasons."
   ]
  },
  {
   "cell_type": "markdown",
   "id": "8f1e5d4f",
   "metadata": {
    "papermill": {
     "duration": 0.086545,
     "end_time": "2021-09-27T20:15:21.173759",
     "exception": false,
     "start_time": "2021-09-27T20:15:21.087214",
     "status": "completed"
    },
    "tags": []
   },
   "source": [
    "# **Content-Based Recommendation System** \n",
    "\n",
    "## **Plot description based Recommender (Content Based Recommendations)**"
   ]
  },
  {
   "cell_type": "markdown",
   "id": "b74743c6",
   "metadata": {
    "papermill": {
     "duration": 0.087523,
     "end_time": "2021-09-27T20:15:21.347961",
     "exception": false,
     "start_time": "2021-09-27T20:15:21.260438",
     "status": "completed"
    },
    "tags": []
   },
   "source": [
    "We will compute pairwise similarity scores for all movies based on their plot descriptions and recommend movies based on that similarity score. The plot description is given in the **description feature** of our dataset. Let's take a look at the data..."
   ]
  },
  {
   "cell_type": "code",
   "execution_count": 38,
   "id": "62a089dc",
   "metadata": {
    "papermill": {
     "duration": 0.099967,
     "end_time": "2021-09-27T20:15:21.535244",
     "exception": false,
     "start_time": "2021-09-27T20:15:21.435277",
     "status": "completed"
    },
    "tags": []
   },
   "outputs": [
    {
     "data": {
      "text/plain": [
       "0    A reality and competition show where members a...\n",
       "1    A late night television talk show hosted by  C...\n",
       "2    MasterChef Greece is a Greek competitive cooki...\n",
       "3    The knives (and forks) are out as a group of s...\n",
       "4    A panel of well-known news and entertainment p...\n",
       "Name: description, dtype: object"
      ]
     },
     "execution_count": 38,
     "metadata": {},
     "output_type": "execute_result"
    }
   ],
   "source": [
    "#Plot description based Recommender (Content Based Recommendations)\n",
    "\n",
    "netflix_dataset['description'].head()"
   ]
  },
  {
   "cell_type": "markdown",
   "id": "0a4a98d2",
   "metadata": {
    "papermill": {
     "duration": 0.086895,
     "end_time": "2021-09-27T20:15:21.709295",
     "exception": false,
     "start_time": "2021-09-27T20:15:21.622400",
     "status": "completed"
    },
    "tags": []
   },
   "source": [
    "For any of you who has done even a bit of text processing before knows we need to convert the word vector of each description.\n",
    "Now we'll compute Term Frequency-Inverse Document Frequency (TF-IDF) vectors for each description.\n",
    "\n",
    "The TF-IDF(Term Frequency-Inverse Document Frequency (TF-IDF) ) score is the frequency of a word occurring in a document, down-weighted by the number of documents in which it occurs. This is done to reduce the importance of words that occur frequently in plot overviews and therefore, their significance in computing the final similarity score.\n",
    "\n",
    "Now if you are wondering what is **Term Frequency (TF)**, it is the relative frequency of a word in a document and is given as (term instances/total instances). **Inverse Document Frequency (IDF)** is the relative count of documents containing the term is given as log(number of documents/documents with term) The overall importance of each word to the documents in which they appear is equal to **TF * IDF**\n",
    "\n",
    "This will give you a matrix where each column represents a word in the description vocabulary (all the words that appear in at least one document) and each row represents a movie, as before. This is done to reduce the importance of words that occur frequently in plot descriptions and therefore, their significance in computing the final similarity score.\n",
    "\n",
    "Fortunately, scikit-learn gives you a built-in TfIdfVectorizer class that produces the TF-IDF matrix in a couple of lines."
   ]
  },
  {
   "cell_type": "code",
   "execution_count": 39,
   "id": "a13140ed",
   "metadata": {
    "papermill": {
     "duration": 0.524866,
     "end_time": "2021-09-27T20:15:22.322232",
     "exception": false,
     "start_time": "2021-09-27T20:15:21.797366",
     "status": "completed"
    },
    "tags": []
   },
   "outputs": [
    {
     "name": "stdout",
     "output_type": "stream",
     "text": [
      "<class 'scipy.sparse._csr.csr_matrix'>\n"
     ]
    },
    {
     "data": {
      "text/plain": [
       "(32000, 54565)"
      ]
     },
     "execution_count": 39,
     "metadata": {},
     "output_type": "execute_result"
    }
   ],
   "source": [
    "#Recommedation System(Content Based)\n",
    "\n",
    "#Import TfIdfVectorizer from scikit-learn\n",
    "from sklearn.feature_extraction.text import TfidfVectorizer\n",
    "\n",
    "# Cargar datos y crear TF-IDF (ya es disperso por defecto)\n",
    "tfidf = TfidfVectorizer(stop_words='english')\n",
    "netflix_dataset['description'] = netflix_dataset['description'].fillna('NaN')\n",
    "tfidf_matrix = tfidf.fit_transform(netflix_dataset['description'])\n",
    "\n",
    "# Verificar el tipo de matriz (debe ser CSR o similar)\n",
    "print(type(tfidf_matrix))  # Debería ser <class 'scipy.sparse.csr_matrix'>\n",
    "\n",
    "# Convertir a float32 para ahorrar memoria (opcional)\n",
    "tfidf_matrix = tfidf_matrix.astype(np.float32)\n",
    "tfidf_matrix.shape"
   ]
  },
  {
   "cell_type": "code",
   "execution_count": 40,
   "id": "62e69d4e-43dc-4a59-aede-1c3606f5c9c1",
   "metadata": {},
   "outputs": [
    {
     "data": {
      "text/html": [
       "<div>\n",
       "<style scoped>\n",
       "    .dataframe tbody tr th:only-of-type {\n",
       "        vertical-align: middle;\n",
       "    }\n",
       "\n",
       "    .dataframe tbody tr th {\n",
       "        vertical-align: top;\n",
       "    }\n",
       "\n",
       "    .dataframe thead th {\n",
       "        text-align: right;\n",
       "    }\n",
       "</style>\n",
       "<table border=\"1\" class=\"dataframe\">\n",
       "  <thead>\n",
       "    <tr style=\"text-align: right;\">\n",
       "      <th></th>\n",
       "      <th>00</th>\n",
       "      <th>000</th>\n",
       "      <th>000ft</th>\n",
       "      <th>007</th>\n",
       "      <th>0079</th>\n",
       "      <th>009</th>\n",
       "      <th>0096</th>\n",
       "      <th>00am</th>\n",
       "      <th>00pm</th>\n",
       "      <th>01</th>\n",
       "      <th>...</th>\n",
       "      <th>아이랜드</th>\n",
       "      <th>이달의</th>\n",
       "      <th>챔피언</th>\n",
       "      <th>탐구</th>\n",
       "      <th>ﬁnd</th>\n",
       "      <th>𝐑𝐢𝐧𝐠</th>\n",
       "      <th>𝐑𝐨𝐰𝐞𝐥</th>\n",
       "      <th>𝐨𝐟</th>\n",
       "      <th>𝐬𝐭𝐨𝐫𝐲</th>\n",
       "      <th>𝐭𝐡𝐞</th>\n",
       "    </tr>\n",
       "  </thead>\n",
       "  <tbody>\n",
       "    <tr>\n",
       "      <th>0</th>\n",
       "      <td>0.0</td>\n",
       "      <td>0.0</td>\n",
       "      <td>0.0</td>\n",
       "      <td>0.0</td>\n",
       "      <td>0.0</td>\n",
       "      <td>0.0</td>\n",
       "      <td>0.0</td>\n",
       "      <td>0.0</td>\n",
       "      <td>0.0</td>\n",
       "      <td>0.0</td>\n",
       "      <td>...</td>\n",
       "      <td>0.0</td>\n",
       "      <td>0.0</td>\n",
       "      <td>0.0</td>\n",
       "      <td>0.0</td>\n",
       "      <td>0.0</td>\n",
       "      <td>0.0</td>\n",
       "      <td>0.0</td>\n",
       "      <td>0.0</td>\n",
       "      <td>0.0</td>\n",
       "      <td>0.0</td>\n",
       "    </tr>\n",
       "    <tr>\n",
       "      <th>1</th>\n",
       "      <td>0.0</td>\n",
       "      <td>0.0</td>\n",
       "      <td>0.0</td>\n",
       "      <td>0.0</td>\n",
       "      <td>0.0</td>\n",
       "      <td>0.0</td>\n",
       "      <td>0.0</td>\n",
       "      <td>0.0</td>\n",
       "      <td>0.0</td>\n",
       "      <td>0.0</td>\n",
       "      <td>...</td>\n",
       "      <td>0.0</td>\n",
       "      <td>0.0</td>\n",
       "      <td>0.0</td>\n",
       "      <td>0.0</td>\n",
       "      <td>0.0</td>\n",
       "      <td>0.0</td>\n",
       "      <td>0.0</td>\n",
       "      <td>0.0</td>\n",
       "      <td>0.0</td>\n",
       "      <td>0.0</td>\n",
       "    </tr>\n",
       "    <tr>\n",
       "      <th>2</th>\n",
       "      <td>0.0</td>\n",
       "      <td>0.0</td>\n",
       "      <td>0.0</td>\n",
       "      <td>0.0</td>\n",
       "      <td>0.0</td>\n",
       "      <td>0.0</td>\n",
       "      <td>0.0</td>\n",
       "      <td>0.0</td>\n",
       "      <td>0.0</td>\n",
       "      <td>0.0</td>\n",
       "      <td>...</td>\n",
       "      <td>0.0</td>\n",
       "      <td>0.0</td>\n",
       "      <td>0.0</td>\n",
       "      <td>0.0</td>\n",
       "      <td>0.0</td>\n",
       "      <td>0.0</td>\n",
       "      <td>0.0</td>\n",
       "      <td>0.0</td>\n",
       "      <td>0.0</td>\n",
       "      <td>0.0</td>\n",
       "    </tr>\n",
       "    <tr>\n",
       "      <th>3</th>\n",
       "      <td>0.0</td>\n",
       "      <td>0.0</td>\n",
       "      <td>0.0</td>\n",
       "      <td>0.0</td>\n",
       "      <td>0.0</td>\n",
       "      <td>0.0</td>\n",
       "      <td>0.0</td>\n",
       "      <td>0.0</td>\n",
       "      <td>0.0</td>\n",
       "      <td>0.0</td>\n",
       "      <td>...</td>\n",
       "      <td>0.0</td>\n",
       "      <td>0.0</td>\n",
       "      <td>0.0</td>\n",
       "      <td>0.0</td>\n",
       "      <td>0.0</td>\n",
       "      <td>0.0</td>\n",
       "      <td>0.0</td>\n",
       "      <td>0.0</td>\n",
       "      <td>0.0</td>\n",
       "      <td>0.0</td>\n",
       "    </tr>\n",
       "    <tr>\n",
       "      <th>4</th>\n",
       "      <td>0.0</td>\n",
       "      <td>0.0</td>\n",
       "      <td>0.0</td>\n",
       "      <td>0.0</td>\n",
       "      <td>0.0</td>\n",
       "      <td>0.0</td>\n",
       "      <td>0.0</td>\n",
       "      <td>0.0</td>\n",
       "      <td>0.0</td>\n",
       "      <td>0.0</td>\n",
       "      <td>...</td>\n",
       "      <td>0.0</td>\n",
       "      <td>0.0</td>\n",
       "      <td>0.0</td>\n",
       "      <td>0.0</td>\n",
       "      <td>0.0</td>\n",
       "      <td>0.0</td>\n",
       "      <td>0.0</td>\n",
       "      <td>0.0</td>\n",
       "      <td>0.0</td>\n",
       "      <td>0.0</td>\n",
       "    </tr>\n",
       "  </tbody>\n",
       "</table>\n",
       "<p>5 rows × 54565 columns</p>\n",
       "</div>"
      ],
      "text/plain": [
       "    00  000  000ft  007  0079  009  0096  00am  00pm   01  ...  아이랜드  이달의  \\\n",
       "0  0.0  0.0    0.0  0.0   0.0  0.0   0.0   0.0   0.0  0.0  ...   0.0  0.0   \n",
       "1  0.0  0.0    0.0  0.0   0.0  0.0   0.0   0.0   0.0  0.0  ...   0.0  0.0   \n",
       "2  0.0  0.0    0.0  0.0   0.0  0.0   0.0   0.0   0.0  0.0  ...   0.0  0.0   \n",
       "3  0.0  0.0    0.0  0.0   0.0  0.0   0.0   0.0   0.0  0.0  ...   0.0  0.0   \n",
       "4  0.0  0.0    0.0  0.0   0.0  0.0   0.0   0.0   0.0  0.0  ...   0.0  0.0   \n",
       "\n",
       "   챔피언   탐구  ﬁnd  𝐑𝐢𝐧𝐠  𝐑𝐨𝐰𝐞𝐥   𝐨𝐟  𝐬𝐭𝐨𝐫𝐲  𝐭𝐡𝐞  \n",
       "0  0.0  0.0  0.0   0.0    0.0  0.0    0.0  0.0  \n",
       "1  0.0  0.0  0.0   0.0    0.0  0.0    0.0  0.0  \n",
       "2  0.0  0.0  0.0   0.0    0.0  0.0    0.0  0.0  \n",
       "3  0.0  0.0  0.0   0.0    0.0  0.0    0.0  0.0  \n",
       "4  0.0  0.0  0.0   0.0    0.0  0.0    0.0  0.0  \n",
       "\n",
       "[5 rows x 54565 columns]"
      ]
     },
     "metadata": {},
     "output_type": "display_data"
    },
    {
     "data": {
      "text/html": [
       "<div>\n",
       "<style scoped>\n",
       "    .dataframe tbody tr th:only-of-type {\n",
       "        vertical-align: middle;\n",
       "    }\n",
       "\n",
       "    .dataframe tbody tr th {\n",
       "        vertical-align: top;\n",
       "    }\n",
       "\n",
       "    .dataframe thead th {\n",
       "        text-align: right;\n",
       "    }\n",
       "</style>\n",
       "<table border=\"1\" class=\"dataframe\">\n",
       "  <thead>\n",
       "    <tr style=\"text-align: right;\">\n",
       "      <th></th>\n",
       "      <th>00</th>\n",
       "      <th>000</th>\n",
       "      <th>000ft</th>\n",
       "      <th>007</th>\n",
       "      <th>0079</th>\n",
       "      <th>009</th>\n",
       "      <th>0096</th>\n",
       "      <th>00am</th>\n",
       "      <th>00pm</th>\n",
       "      <th>01</th>\n",
       "      <th>...</th>\n",
       "      <th>아이랜드</th>\n",
       "      <th>이달의</th>\n",
       "      <th>챔피언</th>\n",
       "      <th>탐구</th>\n",
       "      <th>ﬁnd</th>\n",
       "      <th>𝐑𝐢𝐧𝐠</th>\n",
       "      <th>𝐑𝐨𝐰𝐞𝐥</th>\n",
       "      <th>𝐨𝐟</th>\n",
       "      <th>𝐬𝐭𝐨𝐫𝐲</th>\n",
       "      <th>𝐭𝐡𝐞</th>\n",
       "    </tr>\n",
       "  </thead>\n",
       "  <tbody>\n",
       "    <tr>\n",
       "      <th>0</th>\n",
       "      <td>0.0</td>\n",
       "      <td>0.0</td>\n",
       "      <td>0.0</td>\n",
       "      <td>0.0</td>\n",
       "      <td>0.0</td>\n",
       "      <td>0.0</td>\n",
       "      <td>0.0</td>\n",
       "      <td>0.0</td>\n",
       "      <td>0.0</td>\n",
       "      <td>0.0</td>\n",
       "      <td>...</td>\n",
       "      <td>0.0</td>\n",
       "      <td>0.0</td>\n",
       "      <td>0.0</td>\n",
       "      <td>0.0</td>\n",
       "      <td>0.0</td>\n",
       "      <td>0.0</td>\n",
       "      <td>0.0</td>\n",
       "      <td>0.0</td>\n",
       "      <td>0.0</td>\n",
       "      <td>0.0</td>\n",
       "    </tr>\n",
       "    <tr>\n",
       "      <th>1</th>\n",
       "      <td>0.0</td>\n",
       "      <td>0.0</td>\n",
       "      <td>0.0</td>\n",
       "      <td>0.0</td>\n",
       "      <td>0.0</td>\n",
       "      <td>0.0</td>\n",
       "      <td>0.0</td>\n",
       "      <td>0.0</td>\n",
       "      <td>0.0</td>\n",
       "      <td>0.0</td>\n",
       "      <td>...</td>\n",
       "      <td>0.0</td>\n",
       "      <td>0.0</td>\n",
       "      <td>0.0</td>\n",
       "      <td>0.0</td>\n",
       "      <td>0.0</td>\n",
       "      <td>0.0</td>\n",
       "      <td>0.0</td>\n",
       "      <td>0.0</td>\n",
       "      <td>0.0</td>\n",
       "      <td>0.0</td>\n",
       "    </tr>\n",
       "    <tr>\n",
       "      <th>2</th>\n",
       "      <td>0.0</td>\n",
       "      <td>0.0</td>\n",
       "      <td>0.0</td>\n",
       "      <td>0.0</td>\n",
       "      <td>0.0</td>\n",
       "      <td>0.0</td>\n",
       "      <td>0.0</td>\n",
       "      <td>0.0</td>\n",
       "      <td>0.0</td>\n",
       "      <td>0.0</td>\n",
       "      <td>...</td>\n",
       "      <td>0.0</td>\n",
       "      <td>0.0</td>\n",
       "      <td>0.0</td>\n",
       "      <td>0.0</td>\n",
       "      <td>0.0</td>\n",
       "      <td>0.0</td>\n",
       "      <td>0.0</td>\n",
       "      <td>0.0</td>\n",
       "      <td>0.0</td>\n",
       "      <td>0.0</td>\n",
       "    </tr>\n",
       "    <tr>\n",
       "      <th>3</th>\n",
       "      <td>0.0</td>\n",
       "      <td>0.0</td>\n",
       "      <td>0.0</td>\n",
       "      <td>0.0</td>\n",
       "      <td>0.0</td>\n",
       "      <td>0.0</td>\n",
       "      <td>0.0</td>\n",
       "      <td>0.0</td>\n",
       "      <td>0.0</td>\n",
       "      <td>0.0</td>\n",
       "      <td>...</td>\n",
       "      <td>0.0</td>\n",
       "      <td>0.0</td>\n",
       "      <td>0.0</td>\n",
       "      <td>0.0</td>\n",
       "      <td>0.0</td>\n",
       "      <td>0.0</td>\n",
       "      <td>0.0</td>\n",
       "      <td>0.0</td>\n",
       "      <td>0.0</td>\n",
       "      <td>0.0</td>\n",
       "    </tr>\n",
       "    <tr>\n",
       "      <th>4</th>\n",
       "      <td>0.0</td>\n",
       "      <td>0.0</td>\n",
       "      <td>0.0</td>\n",
       "      <td>0.0</td>\n",
       "      <td>0.0</td>\n",
       "      <td>0.0</td>\n",
       "      <td>0.0</td>\n",
       "      <td>0.0</td>\n",
       "      <td>0.0</td>\n",
       "      <td>0.0</td>\n",
       "      <td>...</td>\n",
       "      <td>0.0</td>\n",
       "      <td>0.0</td>\n",
       "      <td>0.0</td>\n",
       "      <td>0.0</td>\n",
       "      <td>0.0</td>\n",
       "      <td>0.0</td>\n",
       "      <td>0.0</td>\n",
       "      <td>0.0</td>\n",
       "      <td>0.0</td>\n",
       "      <td>0.0</td>\n",
       "    </tr>\n",
       "  </tbody>\n",
       "</table>\n",
       "<p>5 rows × 54565 columns</p>\n",
       "</div>"
      ],
      "text/plain": [
       "    00  000  000ft  007  0079  009  0096  00am  00pm   01  ...  아이랜드  이달의  \\\n",
       "0  0.0  0.0    0.0  0.0   0.0  0.0   0.0   0.0   0.0  0.0  ...   0.0  0.0   \n",
       "1  0.0  0.0    0.0  0.0   0.0  0.0   0.0   0.0   0.0  0.0  ...   0.0  0.0   \n",
       "2  0.0  0.0    0.0  0.0   0.0  0.0   0.0   0.0   0.0  0.0  ...   0.0  0.0   \n",
       "3  0.0  0.0    0.0  0.0   0.0  0.0   0.0   0.0   0.0  0.0  ...   0.0  0.0   \n",
       "4  0.0  0.0    0.0  0.0   0.0  0.0   0.0   0.0   0.0  0.0  ...   0.0  0.0   \n",
       "\n",
       "   챔피언   탐구  ﬁnd  𝐑𝐢𝐧𝐠  𝐑𝐨𝐰𝐞𝐥   𝐨𝐟  𝐬𝐭𝐨𝐫𝐲  𝐭𝐡𝐞  \n",
       "0  0.0  0.0  0.0   0.0    0.0  0.0    0.0  0.0  \n",
       "1  0.0  0.0  0.0   0.0    0.0  0.0    0.0  0.0  \n",
       "2  0.0  0.0  0.0   0.0    0.0  0.0    0.0  0.0  \n",
       "3  0.0  0.0  0.0   0.0    0.0  0.0    0.0  0.0  \n",
       "4  0.0  0.0  0.0   0.0    0.0  0.0    0.0  0.0  \n",
       "\n",
       "[5 rows x 54565 columns]"
      ]
     },
     "metadata": {},
     "output_type": "display_data"
    }
   ],
   "source": [
    "f5 = tfidf_matrix[:5]\n",
    "l5 = tfidf_matrix[-5:]\n",
    "f5_dense = f5.toarray()\n",
    "l5_dense = l5.toarray()\n",
    "feature_names = tfidf.get_feature_names_out()\n",
    "df_f5 = pd.DataFrame(f5_dense, columns=feature_names)\n",
    "df_l5 = pd.DataFrame(l5_dense, columns=feature_names)\n",
    "display(df_f5)\n",
    "display(df_l5)"
   ]
  },
  {
   "cell_type": "markdown",
   "id": "e4143bef",
   "metadata": {
    "papermill": {
     "duration": 0.087391,
     "end_time": "2021-09-27T20:15:22.497751",
     "exception": false,
     "start_time": "2021-09-27T20:15:22.410360",
     "status": "completed"
    },
    "tags": []
   },
   "source": [
    "We see that over 17,900 different words were used to describe the 7787 movies in our dataset."
   ]
  },
  {
   "cell_type": "markdown",
   "id": "41731b3c",
   "metadata": {
    "papermill": {
     "duration": 0.087247,
     "end_time": "2021-09-27T20:15:22.672542",
     "exception": false,
     "start_time": "2021-09-27T20:15:22.585295",
     "status": "completed"
    },
    "tags": []
   },
   "source": [
    "With this matrix in hand, we can now compute a similarity score. There are several candidates for this; such as the euclidean, the Pearson and the cosine similarity scores. There is no right answer to which score is the best. Different scores work well in different scenarios and it is often a good idea to experiment with different metrics.\n",
    "\n",
    "We will be using the cosine similarity to calculate a numeric quantity that denotes the similarity between two movies. We use the cosine similarity score since it is independent of magnitude and is relatively easy and fast to calculate. Mathematically, it is defined as follows:\n",
    "\n",
    "**similarity = cos(x, y) = x . y / ||x|| * ||y||**\n",
    "\n",
    "Since we have used the TF-IDF vectorizer, calculating the dot product will directly give us the cosine similarity score. \n",
    "\n",
    "Therefore, we will use **sklearn's linear_kernel()** instead of cosine_similarities() since it is faster.."
   ]
  },
  {
   "cell_type": "code",
   "execution_count": 41,
   "id": "13bef45b",
   "metadata": {
    "papermill": {
     "duration": 0.84212,
     "end_time": "2021-09-27T20:15:23.602780",
     "exception": false,
     "start_time": "2021-09-27T20:15:22.760660",
     "status": "completed"
    },
    "tags": []
   },
   "outputs": [],
   "source": [
    "from sklearn.metrics.pairwise import linear_kernel,cosine_similarity\n",
    "from scipy.sparse import csr_matrix\n",
    "\n",
    "# Calcular similitud fila por fila\n",
    "cosine_sim = linear_kernel(tfidf_matrix, tfidf_matrix)"
   ]
  },
  {
   "cell_type": "markdown",
   "id": "9088edff",
   "metadata": {
    "papermill": {
     "duration": 0.08756,
     "end_time": "2021-09-27T20:15:23.779976",
     "exception": false,
     "start_time": "2021-09-27T20:15:23.692416",
     "status": "completed"
    },
    "tags": []
   },
   "source": [
    "We are going to define a function that takes in a movie title as an input and outputs a list of the 10 most similar movies. Firstly, for this, we need a reverse mapping of movie titles and DataFrame indices. In other words, we need a mechanism to identify the index of a movie in our netflix DataFrame, given its title."
   ]
  },
  {
   "cell_type": "code",
   "execution_count": 42,
   "id": "d1539ba4",
   "metadata": {
    "papermill": {
     "duration": 0.100145,
     "end_time": "2021-09-27T20:15:24.330765",
     "exception": false,
     "start_time": "2021-09-27T20:15:24.230620",
     "status": "completed"
    },
    "tags": []
   },
   "outputs": [],
   "source": [
    "#Construct a reverse map of indices and movie titles\n",
    "indices = pd.Series(netflix_dataset.index, index=netflix_dataset['title']).drop_duplicates()"
   ]
  },
  {
   "cell_type": "code",
   "execution_count": 46,
   "id": "d6eaca26-fac2-4504-8138-9b92e3d42b27",
   "metadata": {},
   "outputs": [],
   "source": [
    "def get_recommendations(title, cosine_sim=cosine_sim):\n",
    "    title = title.strip().lower()\n",
    "    \n",
    "    if title not in indices:\n",
    "        print(f\"❌ Title '{title}' not found in dataset!\")\n",
    "        return None\n",
    "\n",
    "    idx = indices[title]\n",
    "    sim_scores = list(enumerate(cosine_sim[idx]))\n",
    "    sim_scores = sorted(sim_scores, key=lambda x: x[1], reverse=True)\n",
    "    sim_scores = sim_scores[1:11]\n",
    "    movie_indices = [i[0] for i in sim_scores]\n",
    "\n",
    "    return netflix_dataset['title'].iloc[movie_indices]\n"
   ]
  },
  {
   "cell_type": "code",
   "execution_count": 47,
   "id": "bf339868",
   "metadata": {
    "papermill": {
     "duration": 0.105299,
     "end_time": "2021-09-27T20:15:24.524112",
     "exception": false,
     "start_time": "2021-09-27T20:15:24.418813",
     "status": "completed"
    },
    "tags": []
   },
   "outputs": [
    {
     "name": "stdout",
     "output_type": "stream",
     "text": [
      "❌ Title 'welcome' not found in dataset!\n"
     ]
    }
   ],
   "source": [
    "get_recommendations('Welcome')"
   ]
  },
  {
   "cell_type": "code",
   "execution_count": 48,
   "id": "9c6a5e25",
   "metadata": {
    "papermill": {
     "duration": 0.105379,
     "end_time": "2021-09-27T20:15:24.718707",
     "exception": false,
     "start_time": "2021-09-27T20:15:24.613328",
     "status": "completed"
    },
    "tags": []
   },
   "outputs": [
    {
     "name": "stdout",
     "output_type": "stream",
     "text": [
      "❌ Title 'avengers: infinity war' not found in dataset!\n"
     ]
    }
   ],
   "source": [
    "get_recommendations('Avengers: Infinity War')"
   ]
  },
  {
   "cell_type": "code",
   "execution_count": 49,
   "id": "de56618c",
   "metadata": {
    "papermill": {
     "duration": 0.107853,
     "end_time": "2021-09-27T20:15:24.915719",
     "exception": false,
     "start_time": "2021-09-27T20:15:24.807866",
     "status": "completed"
    },
    "tags": []
   },
   "outputs": [
    {
     "name": "stdout",
     "output_type": "stream",
     "text": [
      "❌ Title 'dil dhadakne do' not found in dataset!\n"
     ]
    }
   ],
   "source": [
    "get_recommendations('Dil Dhadakne Do')"
   ]
  },
  {
   "cell_type": "markdown",
   "id": "bc1d2f80",
   "metadata": {
    "papermill": {
     "duration": 0.090545,
     "end_time": "2021-09-27T20:15:25.095522",
     "exception": false,
     "start_time": "2021-09-27T20:15:25.004977",
     "status": "completed"
    },
    "tags": []
   },
   "source": [
    "While our system has done a decent job of finding movies with similar plot descriptions, the quality of recommendations is not that great. \"Welcome\" returns movies with similar description while it is more likely that the people who liked that movie are more inclined to enjoy other Akshay Kumar movies. This is something that cannot be captured by the present system.\n",
    "\n",
    "Therefore, more metrics are added to the model to improve performance."
   ]
  },
  {
   "cell_type": "markdown",
   "id": "58090f45",
   "metadata": {
    "papermill": {
     "duration": 0.088883,
     "end_time": "2021-09-27T20:15:25.274169",
     "exception": false,
     "start_time": "2021-09-27T20:15:25.185286",
     "status": "completed"
    },
    "tags": []
   },
   "source": [
    "### Content based filtering on multiple metrics\n",
    "\n",
    "Content based filtering on the following factors:\n",
    "\n",
    "* Title\n",
    "* Cast\n",
    "* Director\n",
    "* Listed in\n",
    "* Plot"
   ]
  },
  {
   "cell_type": "code",
   "execution_count": 50,
   "id": "a45699d8",
   "metadata": {
    "papermill": {
     "duration": 0.123336,
     "end_time": "2021-09-27T20:15:25.495660",
     "exception": false,
     "start_time": "2021-09-27T20:15:25.372324",
     "status": "completed"
    },
    "tags": []
   },
   "outputs": [
    {
     "data": {
      "text/html": [
       "<div>\n",
       "<style scoped>\n",
       "    .dataframe tbody tr th:only-of-type {\n",
       "        vertical-align: middle;\n",
       "    }\n",
       "\n",
       "    .dataframe tbody tr th {\n",
       "        vertical-align: top;\n",
       "    }\n",
       "\n",
       "    .dataframe thead th {\n",
       "        text-align: right;\n",
       "    }\n",
       "</style>\n",
       "<table border=\"1\" class=\"dataframe\">\n",
       "  <thead>\n",
       "    <tr style=\"text-align: right;\">\n",
       "      <th></th>\n",
       "      <th>show_id</th>\n",
       "      <th>country</th>\n",
       "      <th>vote_count</th>\n",
       "      <th>duration</th>\n",
       "      <th>title</th>\n",
       "      <th>director</th>\n",
       "      <th>release_year</th>\n",
       "      <th>popularity</th>\n",
       "      <th>revenue</th>\n",
       "      <th>rating</th>\n",
       "      <th>language</th>\n",
       "      <th>vote_average</th>\n",
       "      <th>cast</th>\n",
       "      <th>genres</th>\n",
       "      <th>date_added</th>\n",
       "      <th>budget</th>\n",
       "      <th>description</th>\n",
       "      <th>type</th>\n",
       "    </tr>\n",
       "  </thead>\n",
       "  <tbody>\n",
       "    <tr>\n",
       "      <th>0</th>\n",
       "      <td>33238</td>\n",
       "      <td>South Korea</td>\n",
       "      <td>187</td>\n",
       "      <td>1 Seasons</td>\n",
       "      <td>Running Man</td>\n",
       "      <td>안재철</td>\n",
       "      <td>2010</td>\n",
       "      <td>1929.898</td>\n",
       "      <td></td>\n",
       "      <td>8.241</td>\n",
       "      <td>ko</td>\n",
       "      <td>8.241</td>\n",
       "      <td>Yoo Jae-suk, Jee Seok-jin, Kim Jong-kook, Haha...</td>\n",
       "      <td>Comedy, Reality</td>\n",
       "      <td>2010-07-11</td>\n",
       "      <td></td>\n",
       "      <td>A reality and competition show where members a...</td>\n",
       "      <td>TV Show</td>\n",
       "    </tr>\n",
       "    <tr>\n",
       "      <th>1</th>\n",
       "      <td>32415</td>\n",
       "      <td>United States of America</td>\n",
       "      <td>229</td>\n",
       "      <td>1 Seasons</td>\n",
       "      <td>Conan</td>\n",
       "      <td></td>\n",
       "      <td>2010</td>\n",
       "      <td>1670.580</td>\n",
       "      <td></td>\n",
       "      <td>7.035</td>\n",
       "      <td>en</td>\n",
       "      <td>7.035</td>\n",
       "      <td>Conan O'Brien, Andy Richter</td>\n",
       "      <td>Talk, Comedy, News</td>\n",
       "      <td>2010-11-08</td>\n",
       "      <td></td>\n",
       "      <td>A late night television talk show hosted by  C...</td>\n",
       "      <td>TV Show</td>\n",
       "    </tr>\n",
       "    <tr>\n",
       "      <th>2</th>\n",
       "      <td>37757</td>\n",
       "      <td>Greece</td>\n",
       "      <td>6</td>\n",
       "      <td>1 Seasons</td>\n",
       "      <td>MasterChef Greece</td>\n",
       "      <td></td>\n",
       "      <td>2010</td>\n",
       "      <td>1317.092</td>\n",
       "      <td></td>\n",
       "      <td>5.600</td>\n",
       "      <td>el</td>\n",
       "      <td>5.600</td>\n",
       "      <td></td>\n",
       "      <td>Reality</td>\n",
       "      <td>2010-10-03</td>\n",
       "      <td></td>\n",
       "      <td>MasterChef Greece is a Greek competitive cooki...</td>\n",
       "      <td>TV Show</td>\n",
       "    </tr>\n",
       "    <tr>\n",
       "      <th>3</th>\n",
       "      <td>75685</td>\n",
       "      <td>Czech Republic</td>\n",
       "      <td>6</td>\n",
       "      <td>1 Seasons</td>\n",
       "      <td>Prostřeno!</td>\n",
       "      <td></td>\n",
       "      <td>2010</td>\n",
       "      <td>1095.776</td>\n",
       "      <td></td>\n",
       "      <td>6.500</td>\n",
       "      <td>cs</td>\n",
       "      <td>6.500</td>\n",
       "      <td>Václav Vydra, Jana Boušková</td>\n",
       "      <td>Reality</td>\n",
       "      <td>2010-03-01</td>\n",
       "      <td></td>\n",
       "      <td>The knives (and forks) are out as a group of s...</td>\n",
       "      <td>TV Show</td>\n",
       "    </tr>\n",
       "    <tr>\n",
       "      <th>4</th>\n",
       "      <td>33847</td>\n",
       "      <td>United States of America, Ireland</td>\n",
       "      <td>12</td>\n",
       "      <td>1 Seasons</td>\n",
       "      <td>The Talk</td>\n",
       "      <td></td>\n",
       "      <td>2010</td>\n",
       "      <td>712.070</td>\n",
       "      <td></td>\n",
       "      <td>3.400</td>\n",
       "      <td>en</td>\n",
       "      <td>3.400</td>\n",
       "      <td>Amanda Kloots, Jerry O'Connell, Akbar Gbaja-Bi...</td>\n",
       "      <td>Talk</td>\n",
       "      <td>2010-10-18</td>\n",
       "      <td></td>\n",
       "      <td>A panel of well-known news and entertainment p...</td>\n",
       "      <td>TV Show</td>\n",
       "    </tr>\n",
       "  </tbody>\n",
       "</table>\n",
       "</div>"
      ],
      "text/plain": [
       "   show_id                            country  vote_count   duration  \\\n",
       "0    33238                        South Korea         187  1 Seasons   \n",
       "1    32415           United States of America         229  1 Seasons   \n",
       "2    37757                             Greece           6  1 Seasons   \n",
       "3    75685                     Czech Republic           6  1 Seasons   \n",
       "4    33847  United States of America, Ireland          12  1 Seasons   \n",
       "\n",
       "               title director  release_year  popularity revenue  rating  \\\n",
       "0        Running Man      안재철          2010    1929.898           8.241   \n",
       "1              Conan                   2010    1670.580           7.035   \n",
       "2  MasterChef Greece                   2010    1317.092           5.600   \n",
       "3         Prostřeno!                   2010    1095.776           6.500   \n",
       "4           The Talk                   2010     712.070           3.400   \n",
       "\n",
       "  language  vote_average                                               cast  \\\n",
       "0       ko         8.241  Yoo Jae-suk, Jee Seok-jin, Kim Jong-kook, Haha...   \n",
       "1       en         7.035                        Conan O'Brien, Andy Richter   \n",
       "2       el         5.600                                                      \n",
       "3       cs         6.500                        Václav Vydra, Jana Boušková   \n",
       "4       en         3.400  Amanda Kloots, Jerry O'Connell, Akbar Gbaja-Bi...   \n",
       "\n",
       "               genres  date_added budget  \\\n",
       "0     Comedy, Reality  2010-07-11          \n",
       "1  Talk, Comedy, News  2010-11-08          \n",
       "2             Reality  2010-10-03          \n",
       "3             Reality  2010-03-01          \n",
       "4                Talk  2010-10-18          \n",
       "\n",
       "                                         description     type  \n",
       "0  A reality and competition show where members a...  TV Show  \n",
       "1  A late night television talk show hosted by  C...  TV Show  \n",
       "2  MasterChef Greece is a Greek competitive cooki...  TV Show  \n",
       "3  The knives (and forks) are out as a group of s...  TV Show  \n",
       "4  A panel of well-known news and entertainment p...  TV Show  "
      ]
     },
     "execution_count": 50,
     "metadata": {},
     "output_type": "execute_result"
    }
   ],
   "source": [
    "#Filling null values with empty string.\n",
    "filledna=netflix_dataset.fillna('')\n",
    "filledna.head()"
   ]
  },
  {
   "cell_type": "markdown",
   "id": "9e8e5f59",
   "metadata": {
    "papermill": {
     "duration": 0.089387,
     "end_time": "2021-09-27T20:15:25.674466",
     "exception": false,
     "start_time": "2021-09-27T20:15:25.585079",
     "status": "completed"
    },
    "tags": []
   },
   "source": [
    "The next step would be to convert the names and keyword instances into lowercase and strip all the spaces between them. This is done so that our vectorizer doesn't count the Johnny of \"Johnny Depp\" and \"Johnny Galecki\" as the same"
   ]
  },
  {
   "cell_type": "code",
   "execution_count": 53,
   "id": "c999dc4f",
   "metadata": {
    "papermill": {
     "duration": 0.097618,
     "end_time": "2021-09-27T20:15:25.862984",
     "exception": false,
     "start_time": "2021-09-27T20:15:25.765366",
     "status": "completed"
    },
    "tags": []
   },
   "outputs": [],
   "source": [
    "#Cleaning the data - making all the words lower case\n",
    "def clean_data(x):\n",
    "        return str.lower(x.replace(\" \", \"\"))"
   ]
  },
  {
   "cell_type": "code",
   "execution_count": 56,
   "id": "9a816835",
   "metadata": {
    "papermill": {
     "duration": 0.123107,
     "end_time": "2021-09-27T20:15:26.077162",
     "exception": false,
     "start_time": "2021-09-27T20:15:25.954055",
     "status": "completed"
    },
    "tags": []
   },
   "outputs": [],
   "source": [
    "#Identifying features on which the model is to be filtered.\n",
    "features=['title','director','cast','genres','description']\n",
    "filledna=filledna[features]"
   ]
  },
  {
   "cell_type": "code",
   "execution_count": 57,
   "id": "aba4ba1c",
   "metadata": {
    "papermill": {
     "duration": 0.163022,
     "end_time": "2021-09-27T20:15:26.330573",
     "exception": false,
     "start_time": "2021-09-27T20:15:26.167551",
     "status": "completed"
    },
    "tags": []
   },
   "outputs": [
    {
     "data": {
      "text/html": [
       "<div>\n",
       "<style scoped>\n",
       "    .dataframe tbody tr th:only-of-type {\n",
       "        vertical-align: middle;\n",
       "    }\n",
       "\n",
       "    .dataframe tbody tr th {\n",
       "        vertical-align: top;\n",
       "    }\n",
       "\n",
       "    .dataframe thead th {\n",
       "        text-align: right;\n",
       "    }\n",
       "</style>\n",
       "<table border=\"1\" class=\"dataframe\">\n",
       "  <thead>\n",
       "    <tr style=\"text-align: right;\">\n",
       "      <th></th>\n",
       "      <th>title</th>\n",
       "      <th>director</th>\n",
       "      <th>cast</th>\n",
       "      <th>genres</th>\n",
       "      <th>description</th>\n",
       "    </tr>\n",
       "  </thead>\n",
       "  <tbody>\n",
       "    <tr>\n",
       "      <th>0</th>\n",
       "      <td>runningman</td>\n",
       "      <td>안재철</td>\n",
       "      <td>yoojae-suk,jeeseok-jin,kimjong-kook,haha,songj...</td>\n",
       "      <td>comedy,reality</td>\n",
       "      <td>arealityandcompetitionshowwheremembersarejoine...</td>\n",
       "    </tr>\n",
       "    <tr>\n",
       "      <th>1</th>\n",
       "      <td>conan</td>\n",
       "      <td></td>\n",
       "      <td>conano'brien,andyrichter</td>\n",
       "      <td>talk,comedy,news</td>\n",
       "      <td>alatenighttelevisiontalkshowhostedbyconano'brien.</td>\n",
       "    </tr>\n",
       "    <tr>\n",
       "      <th>2</th>\n",
       "      <td>masterchefgreece</td>\n",
       "      <td></td>\n",
       "      <td></td>\n",
       "      <td>reality</td>\n",
       "      <td>masterchefgreeceisagreekcompetitivecookinggame...</td>\n",
       "    </tr>\n",
       "    <tr>\n",
       "      <th>3</th>\n",
       "      <td>prostřeno!</td>\n",
       "      <td></td>\n",
       "      <td>václavvydra,janaboušková</td>\n",
       "      <td>reality</td>\n",
       "      <td>theknives(andforks)areoutasagroupofstrangersco...</td>\n",
       "    </tr>\n",
       "    <tr>\n",
       "      <th>4</th>\n",
       "      <td>thetalk</td>\n",
       "      <td></td>\n",
       "      <td>amandakloots,jerryo'connell,akbargbaja-biamila...</td>\n",
       "      <td>talk</td>\n",
       "      <td>apanelofwell-knownnewsandentertainmentpersonal...</td>\n",
       "    </tr>\n",
       "  </tbody>\n",
       "</table>\n",
       "</div>"
      ],
      "text/plain": [
       "              title director  \\\n",
       "0        runningman      안재철   \n",
       "1             conan            \n",
       "2  masterchefgreece            \n",
       "3        prostřeno!            \n",
       "4           thetalk            \n",
       "\n",
       "                                                cast            genres  \\\n",
       "0  yoojae-suk,jeeseok-jin,kimjong-kook,haha,songj...    comedy,reality   \n",
       "1                           conano'brien,andyrichter  talk,comedy,news   \n",
       "2                                                              reality   \n",
       "3                           václavvydra,janaboušková           reality   \n",
       "4  amandakloots,jerryo'connell,akbargbaja-biamila...              talk   \n",
       "\n",
       "                                         description  \n",
       "0  arealityandcompetitionshowwheremembersarejoine...  \n",
       "1  alatenighttelevisiontalkshowhostedbyconano'brien.  \n",
       "2  masterchefgreeceisagreekcompetitivecookinggame...  \n",
       "3  theknives(andforks)areoutasagroupofstrangersco...  \n",
       "4  apanelofwell-knownnewsandentertainmentpersonal...  "
      ]
     },
     "execution_count": 57,
     "metadata": {},
     "output_type": "execute_result"
    }
   ],
   "source": [
    "for feature in features:\n",
    "    filledna[feature] = filledna[feature].apply(clean_data)\n",
    "    \n",
    "filledna.head()"
   ]
  },
  {
   "cell_type": "markdown",
   "id": "3cd725bf",
   "metadata": {
    "papermill": {
     "duration": 0.089622,
     "end_time": "2021-09-27T20:15:26.510885",
     "exception": false,
     "start_time": "2021-09-27T20:15:26.421263",
     "status": "completed"
    },
    "tags": []
   },
   "source": [
    "We are now in a position to create our \"soup\" or a \"bag of words\" for all rows, which is a string that contains all the metadata that we want to feed to our vectorizer (namely actors, director and keywords).\n"
   ]
  },
  {
   "cell_type": "code",
   "execution_count": 58,
   "id": "c9395be1",
   "metadata": {
    "papermill": {
     "duration": 0.374679,
     "end_time": "2021-09-27T20:15:26.975971",
     "exception": false,
     "start_time": "2021-09-27T20:15:26.601292",
     "status": "completed"
    },
    "tags": []
   },
   "outputs": [],
   "source": [
    "def create_soup(x):\n",
    "    return x['title']+ ' ' + x['director'] + ' ' + x['cast'] + ' ' +x['genres']+' '+ x['description']\n",
    "\n",
    "filledna['soup'] = filledna.apply(create_soup, axis=1)"
   ]
  },
  {
   "cell_type": "markdown",
   "id": "ac010ead",
   "metadata": {
    "papermill": {
     "duration": 0.089878,
     "end_time": "2021-09-27T20:15:27.157737",
     "exception": false,
     "start_time": "2021-09-27T20:15:27.067859",
     "status": "completed"
    },
    "tags": []
   },
   "source": [
    "The next steps are the same as what we did with our plot description based recommender. \n",
    "\n",
    "One important difference is that we use the CountVectorizer() instead of TF-IDF. This is because we do not want to down-weight the presence of an actor/director if he or she has acted or directed in relatively more movies. It doesn't make much intuitive sense."
   ]
  },
  {
   "cell_type": "code",
   "execution_count": 59,
   "id": "86d563e1",
   "metadata": {
    "papermill": {
     "duration": 0.5722,
     "end_time": "2021-09-27T20:15:27.820799",
     "exception": false,
     "start_time": "2021-09-27T20:15:27.248599",
     "status": "completed"
    },
    "tags": []
   },
   "outputs": [],
   "source": [
    "# Import CountVectorizer and create the count matrix\n",
    "from sklearn.feature_extraction.text import CountVectorizer\n",
    "\n",
    "count = CountVectorizer(stop_words='english')\n",
    "count_matrix = count.fit_transform(filledna['soup'])"
   ]
  },
  {
   "cell_type": "code",
   "execution_count": 60,
   "id": "bd371553",
   "metadata": {
    "papermill": {
     "duration": 0.956352,
     "end_time": "2021-09-27T20:15:28.867156",
     "exception": false,
     "start_time": "2021-09-27T20:15:27.910804",
     "status": "completed"
    },
    "tags": []
   },
   "outputs": [],
   "source": [
    "# Compute the Cosine Similarity matrix based on the count_matrix\n",
    "from sklearn.metrics.pairwise import cosine_similarity\n",
    "\n",
    "cosine_sim2 = cosine_similarity(count_matrix, count_matrix)"
   ]
  },
  {
   "cell_type": "code",
   "execution_count": 61,
   "id": "42b59b00",
   "metadata": {
    "papermill": {
     "duration": 0.105087,
     "end_time": "2021-09-27T20:15:29.065006",
     "exception": false,
     "start_time": "2021-09-27T20:15:28.959919",
     "status": "completed"
    },
    "tags": []
   },
   "outputs": [],
   "source": [
    "# Reset index of our main DataFrame and construct reverse mapping as before\n",
    "filledna=filledna.reset_index()\n",
    "indices = pd.Series(filledna.index, index=filledna['title'])"
   ]
  },
  {
   "cell_type": "code",
   "execution_count": 62,
   "id": "199803e7",
   "metadata": {
    "papermill": {
     "duration": 0.103419,
     "end_time": "2021-09-27T20:15:29.261504",
     "exception": false,
     "start_time": "2021-09-27T20:15:29.158085",
     "status": "completed"
    },
    "tags": []
   },
   "outputs": [],
   "source": [
    "def get_recommendations_new(title, cosine_sim=cosine_sim):\n",
    "    title=title.replace(' ','').lower()\n",
    "    idx = indices[title]\n",
    "\n",
    "    # Get the pairwsie similarity scores of all movies with that movie\n",
    "    sim_scores = list(enumerate(cosine_sim[idx]))\n",
    "\n",
    "    # Sort the movies based on the similarity scores\n",
    "    sim_scores = sorted(sim_scores, key=lambda x: x[1], reverse=True)\n",
    "\n",
    "    # Get the scores of the 10 most similar movies\n",
    "    sim_scores = sim_scores[1:11]\n",
    "\n",
    "    # Get the movie indices\n",
    "    movie_indices = [i[0] for i in sim_scores]\n",
    "\n",
    "    # Return the top 10 most similar movies\n",
    "    return netflix_dataset['title'].iloc[movie_indices]"
   ]
  },
  {
   "cell_type": "code",
   "execution_count": 63,
   "id": "00e37f1c",
   "metadata": {
    "papermill": {
     "duration": 0.129055,
     "end_time": "2021-09-27T20:15:29.494348",
     "exception": false,
     "start_time": "2021-09-27T20:15:29.365293",
     "status": "completed"
    },
    "tags": []
   },
   "outputs": [
    {
     "ename": "KeyError",
     "evalue": "'welcome'",
     "output_type": "error",
     "traceback": [
      "\u001b[1;31m---------------------------------------------------------------------------\u001b[0m",
      "\u001b[1;31mKeyError\u001b[0m                                  Traceback (most recent call last)",
      "File \u001b[1;32m~\\anaconda3\\Lib\\site-packages\\pandas\\core\\indexes\\base.py:3805\u001b[0m, in \u001b[0;36mIndex.get_loc\u001b[1;34m(self, key)\u001b[0m\n\u001b[0;32m   3804\u001b[0m \u001b[38;5;28;01mtry\u001b[39;00m:\n\u001b[1;32m-> 3805\u001b[0m     \u001b[38;5;28;01mreturn\u001b[39;00m \u001b[38;5;28mself\u001b[39m\u001b[38;5;241m.\u001b[39m_engine\u001b[38;5;241m.\u001b[39mget_loc(casted_key)\n\u001b[0;32m   3806\u001b[0m \u001b[38;5;28;01mexcept\u001b[39;00m \u001b[38;5;167;01mKeyError\u001b[39;00m \u001b[38;5;28;01mas\u001b[39;00m err:\n",
      "File \u001b[1;32mindex.pyx:167\u001b[0m, in \u001b[0;36mpandas._libs.index.IndexEngine.get_loc\u001b[1;34m()\u001b[0m\n",
      "File \u001b[1;32mindex.pyx:191\u001b[0m, in \u001b[0;36mpandas._libs.index.IndexEngine.get_loc\u001b[1;34m()\u001b[0m\n",
      "File \u001b[1;32mindex.pyx:234\u001b[0m, in \u001b[0;36mpandas._libs.index.IndexEngine._get_loc_duplicates\u001b[1;34m()\u001b[0m\n",
      "File \u001b[1;32mindex.pyx:242\u001b[0m, in \u001b[0;36mpandas._libs.index.IndexEngine._maybe_get_bool_indexer\u001b[1;34m()\u001b[0m\n",
      "File \u001b[1;32mindex.pyx:134\u001b[0m, in \u001b[0;36mpandas._libs.index._unpack_bool_indexer\u001b[1;34m()\u001b[0m\n",
      "\u001b[1;31mKeyError\u001b[0m: 'welcome'",
      "\nThe above exception was the direct cause of the following exception:\n",
      "\u001b[1;31mKeyError\u001b[0m                                  Traceback (most recent call last)",
      "Cell \u001b[1;32mIn[63], line 1\u001b[0m\n\u001b[1;32m----> 1\u001b[0m get_recommendations_new(\u001b[38;5;124m'\u001b[39m\u001b[38;5;124mWelcome\u001b[39m\u001b[38;5;124m'\u001b[39m, cosine_sim2)\n",
      "Cell \u001b[1;32mIn[62], line 3\u001b[0m, in \u001b[0;36mget_recommendations_new\u001b[1;34m(title, cosine_sim)\u001b[0m\n\u001b[0;32m      1\u001b[0m \u001b[38;5;28;01mdef\u001b[39;00m \u001b[38;5;21mget_recommendations_new\u001b[39m(title, cosine_sim\u001b[38;5;241m=\u001b[39mcosine_sim):\n\u001b[0;32m      2\u001b[0m     title\u001b[38;5;241m=\u001b[39mtitle\u001b[38;5;241m.\u001b[39mreplace(\u001b[38;5;124m'\u001b[39m\u001b[38;5;124m \u001b[39m\u001b[38;5;124m'\u001b[39m,\u001b[38;5;124m'\u001b[39m\u001b[38;5;124m'\u001b[39m)\u001b[38;5;241m.\u001b[39mlower()\n\u001b[1;32m----> 3\u001b[0m     idx \u001b[38;5;241m=\u001b[39m indices[title]\n\u001b[0;32m      5\u001b[0m     \u001b[38;5;66;03m# Get the pairwsie similarity scores of all movies with that movie\u001b[39;00m\n\u001b[0;32m      6\u001b[0m     sim_scores \u001b[38;5;241m=\u001b[39m \u001b[38;5;28mlist\u001b[39m(\u001b[38;5;28menumerate\u001b[39m(cosine_sim[idx]))\n",
      "File \u001b[1;32m~\\anaconda3\\Lib\\site-packages\\pandas\\core\\series.py:1121\u001b[0m, in \u001b[0;36mSeries.__getitem__\u001b[1;34m(self, key)\u001b[0m\n\u001b[0;32m   1118\u001b[0m     \u001b[38;5;28;01mreturn\u001b[39;00m \u001b[38;5;28mself\u001b[39m\u001b[38;5;241m.\u001b[39m_values[key]\n\u001b[0;32m   1120\u001b[0m \u001b[38;5;28;01melif\u001b[39;00m key_is_scalar:\n\u001b[1;32m-> 1121\u001b[0m     \u001b[38;5;28;01mreturn\u001b[39;00m \u001b[38;5;28mself\u001b[39m\u001b[38;5;241m.\u001b[39m_get_value(key)\n\u001b[0;32m   1123\u001b[0m \u001b[38;5;66;03m# Convert generator to list before going through hashable part\u001b[39;00m\n\u001b[0;32m   1124\u001b[0m \u001b[38;5;66;03m# (We will iterate through the generator there to check for slices)\u001b[39;00m\n\u001b[0;32m   1125\u001b[0m \u001b[38;5;28;01mif\u001b[39;00m is_iterator(key):\n",
      "File \u001b[1;32m~\\anaconda3\\Lib\\site-packages\\pandas\\core\\series.py:1237\u001b[0m, in \u001b[0;36mSeries._get_value\u001b[1;34m(self, label, takeable)\u001b[0m\n\u001b[0;32m   1234\u001b[0m     \u001b[38;5;28;01mreturn\u001b[39;00m \u001b[38;5;28mself\u001b[39m\u001b[38;5;241m.\u001b[39m_values[label]\n\u001b[0;32m   1236\u001b[0m \u001b[38;5;66;03m# Similar to Index.get_value, but we do not fall back to positional\u001b[39;00m\n\u001b[1;32m-> 1237\u001b[0m loc \u001b[38;5;241m=\u001b[39m \u001b[38;5;28mself\u001b[39m\u001b[38;5;241m.\u001b[39mindex\u001b[38;5;241m.\u001b[39mget_loc(label)\n\u001b[0;32m   1239\u001b[0m \u001b[38;5;28;01mif\u001b[39;00m is_integer(loc):\n\u001b[0;32m   1240\u001b[0m     \u001b[38;5;28;01mreturn\u001b[39;00m \u001b[38;5;28mself\u001b[39m\u001b[38;5;241m.\u001b[39m_values[loc]\n",
      "File \u001b[1;32m~\\anaconda3\\Lib\\site-packages\\pandas\\core\\indexes\\base.py:3812\u001b[0m, in \u001b[0;36mIndex.get_loc\u001b[1;34m(self, key)\u001b[0m\n\u001b[0;32m   3807\u001b[0m     \u001b[38;5;28;01mif\u001b[39;00m \u001b[38;5;28misinstance\u001b[39m(casted_key, \u001b[38;5;28mslice\u001b[39m) \u001b[38;5;129;01mor\u001b[39;00m (\n\u001b[0;32m   3808\u001b[0m         \u001b[38;5;28misinstance\u001b[39m(casted_key, abc\u001b[38;5;241m.\u001b[39mIterable)\n\u001b[0;32m   3809\u001b[0m         \u001b[38;5;129;01mand\u001b[39;00m \u001b[38;5;28many\u001b[39m(\u001b[38;5;28misinstance\u001b[39m(x, \u001b[38;5;28mslice\u001b[39m) \u001b[38;5;28;01mfor\u001b[39;00m x \u001b[38;5;129;01min\u001b[39;00m casted_key)\n\u001b[0;32m   3810\u001b[0m     ):\n\u001b[0;32m   3811\u001b[0m         \u001b[38;5;28;01mraise\u001b[39;00m InvalidIndexError(key)\n\u001b[1;32m-> 3812\u001b[0m     \u001b[38;5;28;01mraise\u001b[39;00m \u001b[38;5;167;01mKeyError\u001b[39;00m(key) \u001b[38;5;28;01mfrom\u001b[39;00m \u001b[38;5;21;01merr\u001b[39;00m\n\u001b[0;32m   3813\u001b[0m \u001b[38;5;28;01mexcept\u001b[39;00m \u001b[38;5;167;01mTypeError\u001b[39;00m:\n\u001b[0;32m   3814\u001b[0m     \u001b[38;5;66;03m# If we have a listlike key, _check_indexing_error will raise\u001b[39;00m\n\u001b[0;32m   3815\u001b[0m     \u001b[38;5;66;03m#  InvalidIndexError. Otherwise we fall through and re-raise\u001b[39;00m\n\u001b[0;32m   3816\u001b[0m     \u001b[38;5;66;03m#  the TypeError.\u001b[39;00m\n\u001b[0;32m   3817\u001b[0m     \u001b[38;5;28mself\u001b[39m\u001b[38;5;241m.\u001b[39m_check_indexing_error(key)\n",
      "\u001b[1;31mKeyError\u001b[0m: 'welcome'"
     ]
    }
   ],
   "source": [
    "get_recommendations_new('Welcome', cosine_sim2)"
   ]
  },
  {
   "cell_type": "code",
   "execution_count": 64,
   "id": "83e690f8",
   "metadata": {
    "papermill": {
     "duration": 0.109648,
     "end_time": "2021-09-27T20:15:29.695814",
     "exception": false,
     "start_time": "2021-09-27T20:15:29.586166",
     "status": "completed"
    },
    "tags": []
   },
   "outputs": [
    {
     "data": {
      "text/plain": [
       "25001                      Avengers: Endgame\n",
       "21006                Avengers: Age of Ultron\n",
       "18000                           The Avengers\n",
       "22001             Captain America: Civil War\n",
       "23011                         Thor: Ragnarok\n",
       "19012                             Iron Man 3\n",
       "28056                           The Gray Man\n",
       "20008    Captain America: The Winter Soldier\n",
       "31066                     The Electric State\n",
       "14899                                     帝霸\n",
       "Name: title, dtype: object"
      ]
     },
     "execution_count": 64,
     "metadata": {},
     "output_type": "execute_result"
    }
   ],
   "source": [
    "get_recommendations_new('Avengers: Infinity War', cosine_sim2)"
   ]
  },
  {
   "cell_type": "code",
   "execution_count": 65,
   "id": "21073515",
   "metadata": {
    "papermill": {
     "duration": 0.162963,
     "end_time": "2021-09-27T20:15:29.950539",
     "exception": false,
     "start_time": "2021-09-27T20:15:29.787576",
     "status": "completed"
    },
    "tags": []
   },
   "outputs": [
    {
     "data": {
      "text/plain": [
       "16582    Band Baaja Baaraat\n",
       "21325       Bajirao Mastani\n",
       "3783         Chlapi neplačú\n",
       "8379        Big Top Academy\n",
       "13293         Sandık Kokusu\n",
       "14377    Tu Nombre y el Mio\n",
       "27347              Us Again\n",
       "28704             PSK Belia\n",
       "29932                   STW\n",
       "18460      Jab Tak Hai Jaan\n",
       "Name: title, dtype: object"
      ]
     },
     "execution_count": 65,
     "metadata": {},
     "output_type": "execute_result"
    }
   ],
   "source": [
    "get_recommendations_new('Dil Dhadakne Do', cosine_sim2)"
   ]
  },
  {
   "cell_type": "code",
   "execution_count": 66,
   "id": "7c9ecd8f-4e2b-4c7c-a4fc-e87e63a7155b",
   "metadata": {},
   "outputs": [
    {
     "data": {
      "text/plain": [
       "11134    American Horror Stories\n",
       "7045                        Dark\n",
       "10325        Tales from the Loop\n",
       "9201                   Creepshow\n",
       "4090                Inside No. 9\n",
       "3201               Sleepy Hollow\n",
       "8424                  The Terror\n",
       "9320                   The Order\n",
       "9520                    The Gift\n",
       "10301                 The Island\n",
       "Name: title, dtype: object"
      ]
     },
     "execution_count": 66,
     "metadata": {},
     "output_type": "execute_result"
    }
   ],
   "source": [
    "get_recommendations_new('Under the Dome', cosine_sim2)"
   ]
  },
  {
   "cell_type": "code",
   "execution_count": 67,
   "id": "a273aa07-7ab7-4548-80b1-67ba82e1d14e",
   "metadata": {},
   "outputs": [
    {
     "ename": "KeyError",
     "evalue": "'theloflovers'",
     "output_type": "error",
     "traceback": [
      "\u001b[1;31m---------------------------------------------------------------------------\u001b[0m",
      "\u001b[1;31mKeyError\u001b[0m                                  Traceback (most recent call last)",
      "File \u001b[1;32m~\\anaconda3\\Lib\\site-packages\\pandas\\core\\indexes\\base.py:3805\u001b[0m, in \u001b[0;36mIndex.get_loc\u001b[1;34m(self, key)\u001b[0m\n\u001b[0;32m   3804\u001b[0m \u001b[38;5;28;01mtry\u001b[39;00m:\n\u001b[1;32m-> 3805\u001b[0m     \u001b[38;5;28;01mreturn\u001b[39;00m \u001b[38;5;28mself\u001b[39m\u001b[38;5;241m.\u001b[39m_engine\u001b[38;5;241m.\u001b[39mget_loc(casted_key)\n\u001b[0;32m   3806\u001b[0m \u001b[38;5;28;01mexcept\u001b[39;00m \u001b[38;5;167;01mKeyError\u001b[39;00m \u001b[38;5;28;01mas\u001b[39;00m err:\n",
      "File \u001b[1;32mindex.pyx:167\u001b[0m, in \u001b[0;36mpandas._libs.index.IndexEngine.get_loc\u001b[1;34m()\u001b[0m\n",
      "File \u001b[1;32mindex.pyx:191\u001b[0m, in \u001b[0;36mpandas._libs.index.IndexEngine.get_loc\u001b[1;34m()\u001b[0m\n",
      "File \u001b[1;32mindex.pyx:234\u001b[0m, in \u001b[0;36mpandas._libs.index.IndexEngine._get_loc_duplicates\u001b[1;34m()\u001b[0m\n",
      "File \u001b[1;32mindex.pyx:242\u001b[0m, in \u001b[0;36mpandas._libs.index.IndexEngine._maybe_get_bool_indexer\u001b[1;34m()\u001b[0m\n",
      "File \u001b[1;32mindex.pyx:134\u001b[0m, in \u001b[0;36mpandas._libs.index._unpack_bool_indexer\u001b[1;34m()\u001b[0m\n",
      "\u001b[1;31mKeyError\u001b[0m: 'theloflovers'",
      "\nThe above exception was the direct cause of the following exception:\n",
      "\u001b[1;31mKeyError\u001b[0m                                  Traceback (most recent call last)",
      "Cell \u001b[1;32mIn[67], line 1\u001b[0m\n\u001b[1;32m----> 1\u001b[0m get_recommendations_new(\u001b[38;5;124m'\u001b[39m\u001b[38;5;124mThe Loflovers\u001b[39m\u001b[38;5;124m'\u001b[39m, cosine_sim2)\n",
      "Cell \u001b[1;32mIn[62], line 3\u001b[0m, in \u001b[0;36mget_recommendations_new\u001b[1;34m(title, cosine_sim)\u001b[0m\n\u001b[0;32m      1\u001b[0m \u001b[38;5;28;01mdef\u001b[39;00m \u001b[38;5;21mget_recommendations_new\u001b[39m(title, cosine_sim\u001b[38;5;241m=\u001b[39mcosine_sim):\n\u001b[0;32m      2\u001b[0m     title\u001b[38;5;241m=\u001b[39mtitle\u001b[38;5;241m.\u001b[39mreplace(\u001b[38;5;124m'\u001b[39m\u001b[38;5;124m \u001b[39m\u001b[38;5;124m'\u001b[39m,\u001b[38;5;124m'\u001b[39m\u001b[38;5;124m'\u001b[39m)\u001b[38;5;241m.\u001b[39mlower()\n\u001b[1;32m----> 3\u001b[0m     idx \u001b[38;5;241m=\u001b[39m indices[title]\n\u001b[0;32m      5\u001b[0m     \u001b[38;5;66;03m# Get the pairwsie similarity scores of all movies with that movie\u001b[39;00m\n\u001b[0;32m      6\u001b[0m     sim_scores \u001b[38;5;241m=\u001b[39m \u001b[38;5;28mlist\u001b[39m(\u001b[38;5;28menumerate\u001b[39m(cosine_sim[idx]))\n",
      "File \u001b[1;32m~\\anaconda3\\Lib\\site-packages\\pandas\\core\\series.py:1121\u001b[0m, in \u001b[0;36mSeries.__getitem__\u001b[1;34m(self, key)\u001b[0m\n\u001b[0;32m   1118\u001b[0m     \u001b[38;5;28;01mreturn\u001b[39;00m \u001b[38;5;28mself\u001b[39m\u001b[38;5;241m.\u001b[39m_values[key]\n\u001b[0;32m   1120\u001b[0m \u001b[38;5;28;01melif\u001b[39;00m key_is_scalar:\n\u001b[1;32m-> 1121\u001b[0m     \u001b[38;5;28;01mreturn\u001b[39;00m \u001b[38;5;28mself\u001b[39m\u001b[38;5;241m.\u001b[39m_get_value(key)\n\u001b[0;32m   1123\u001b[0m \u001b[38;5;66;03m# Convert generator to list before going through hashable part\u001b[39;00m\n\u001b[0;32m   1124\u001b[0m \u001b[38;5;66;03m# (We will iterate through the generator there to check for slices)\u001b[39;00m\n\u001b[0;32m   1125\u001b[0m \u001b[38;5;28;01mif\u001b[39;00m is_iterator(key):\n",
      "File \u001b[1;32m~\\anaconda3\\Lib\\site-packages\\pandas\\core\\series.py:1237\u001b[0m, in \u001b[0;36mSeries._get_value\u001b[1;34m(self, label, takeable)\u001b[0m\n\u001b[0;32m   1234\u001b[0m     \u001b[38;5;28;01mreturn\u001b[39;00m \u001b[38;5;28mself\u001b[39m\u001b[38;5;241m.\u001b[39m_values[label]\n\u001b[0;32m   1236\u001b[0m \u001b[38;5;66;03m# Similar to Index.get_value, but we do not fall back to positional\u001b[39;00m\n\u001b[1;32m-> 1237\u001b[0m loc \u001b[38;5;241m=\u001b[39m \u001b[38;5;28mself\u001b[39m\u001b[38;5;241m.\u001b[39mindex\u001b[38;5;241m.\u001b[39mget_loc(label)\n\u001b[0;32m   1239\u001b[0m \u001b[38;5;28;01mif\u001b[39;00m is_integer(loc):\n\u001b[0;32m   1240\u001b[0m     \u001b[38;5;28;01mreturn\u001b[39;00m \u001b[38;5;28mself\u001b[39m\u001b[38;5;241m.\u001b[39m_values[loc]\n",
      "File \u001b[1;32m~\\anaconda3\\Lib\\site-packages\\pandas\\core\\indexes\\base.py:3812\u001b[0m, in \u001b[0;36mIndex.get_loc\u001b[1;34m(self, key)\u001b[0m\n\u001b[0;32m   3807\u001b[0m     \u001b[38;5;28;01mif\u001b[39;00m \u001b[38;5;28misinstance\u001b[39m(casted_key, \u001b[38;5;28mslice\u001b[39m) \u001b[38;5;129;01mor\u001b[39;00m (\n\u001b[0;32m   3808\u001b[0m         \u001b[38;5;28misinstance\u001b[39m(casted_key, abc\u001b[38;5;241m.\u001b[39mIterable)\n\u001b[0;32m   3809\u001b[0m         \u001b[38;5;129;01mand\u001b[39;00m \u001b[38;5;28many\u001b[39m(\u001b[38;5;28misinstance\u001b[39m(x, \u001b[38;5;28mslice\u001b[39m) \u001b[38;5;28;01mfor\u001b[39;00m x \u001b[38;5;129;01min\u001b[39;00m casted_key)\n\u001b[0;32m   3810\u001b[0m     ):\n\u001b[0;32m   3811\u001b[0m         \u001b[38;5;28;01mraise\u001b[39;00m InvalidIndexError(key)\n\u001b[1;32m-> 3812\u001b[0m     \u001b[38;5;28;01mraise\u001b[39;00m \u001b[38;5;167;01mKeyError\u001b[39;00m(key) \u001b[38;5;28;01mfrom\u001b[39;00m \u001b[38;5;21;01merr\u001b[39;00m\n\u001b[0;32m   3813\u001b[0m \u001b[38;5;28;01mexcept\u001b[39;00m \u001b[38;5;167;01mTypeError\u001b[39;00m:\n\u001b[0;32m   3814\u001b[0m     \u001b[38;5;66;03m# If we have a listlike key, _check_indexing_error will raise\u001b[39;00m\n\u001b[0;32m   3815\u001b[0m     \u001b[38;5;66;03m#  InvalidIndexError. Otherwise we fall through and re-raise\u001b[39;00m\n\u001b[0;32m   3816\u001b[0m     \u001b[38;5;66;03m#  the TypeError.\u001b[39;00m\n\u001b[0;32m   3817\u001b[0m     \u001b[38;5;28mself\u001b[39m\u001b[38;5;241m.\u001b[39m_check_indexing_error(key)\n",
      "\u001b[1;31mKeyError\u001b[0m: 'theloflovers'"
     ]
    }
   ],
   "source": [
    "get_recommendations_new('The Loflovers', cosine_sim2)"
   ]
  },
  {
   "cell_type": "code",
   "execution_count": 69,
   "id": "a0857714-75b9-4b40-ab51-4a1d45125522",
   "metadata": {},
   "outputs": [
    {
     "data": {
      "text/plain": [
       "29568    To End All War: Oppenheimer & the Atomic Bomb\n",
       "25053                                     Little Women\n",
       "27083                                    The Last Duel\n",
       "23035                                          Dunkirk\n",
       "25030                                   Ford v Ferrari\n",
       "29127                                              Air\n",
       "21062                          In the Heart of the Sea\n",
       "12965                                      The English\n",
       "18309                                           Broken\n",
       "18399                                    Arthur Newman\n",
       "Name: title, dtype: object"
      ]
     },
     "execution_count": 69,
     "metadata": {},
     "output_type": "execute_result"
    }
   ],
   "source": [
    "get_recommendations_new('Oppenheimer', cosine_sim2)"
   ]
  },
  {
   "cell_type": "code",
   "execution_count": 70,
   "id": "380ab2a8-4699-4121-83fd-0ead462b8c5f",
   "metadata": {},
   "outputs": [
    {
     "data": {
      "text/plain": [
       "17145                     Small Fry\n",
       "17071             Hawaiian Vacation\n",
       "18093               Partysaurus Rex\n",
       "3778                      Vale Tudo\n",
       "3879                     Mônica Toy\n",
       "10446                   Obake Zukan\n",
       "10609                      POKÉTOON\n",
       "20105    Toy Story That Time Forgot\n",
       "3520      Ninja Hattori-Kun Returns\n",
       "5756                  Two More Eggs\n",
       "Name: title, dtype: object"
      ]
     },
     "execution_count": 70,
     "metadata": {},
     "output_type": "execute_result"
    }
   ],
   "source": [
    "get_recommendations_new('Toy Story 3', cosine_sim2)"
   ]
  },
  {
   "cell_type": "markdown",
   "id": "3deed042",
   "metadata": {
    "papermill": {
     "duration": 0.091752,
     "end_time": "2021-09-27T20:15:30.133605",
     "exception": false,
     "start_time": "2021-09-27T20:15:30.041853",
     "status": "completed"
    },
    "tags": []
   },
   "source": [
    "We see that our recommender has been successful in capturing more information due to more metadata and has given us (arguably) better recommendations. It is more likely that Marvel or DC comics fans will like the movies of the same production house. Therefore, to our features above we can add production_company . We can also increase the weight of the director, by adding the feature multiple times in the soup."
   ]
  }
 ],
 "metadata": {
  "kernelspec": {
   "display_name": "Python 3 (ipykernel)",
   "language": "python",
   "name": "python3"
  },
  "language_info": {
   "codemirror_mode": {
    "name": "ipython",
    "version": 3
   },
   "file_extension": ".py",
   "mimetype": "text/x-python",
   "name": "python",
   "nbconvert_exporter": "python",
   "pygments_lexer": "ipython3",
   "version": "3.12.7"
  },
  "papermill": {
   "default_parameters": {},
   "duration": 35.811486,
   "end_time": "2021-09-27T20:15:31.141611",
   "environment_variables": {},
   "exception": null,
   "input_path": "__notebook__.ipynb",
   "output_path": "__notebook__.ipynb",
   "parameters": {},
   "start_time": "2021-09-27T20:14:55.330125",
   "version": "2.3.3"
  }
 },
 "nbformat": 4,
 "nbformat_minor": 5
}
